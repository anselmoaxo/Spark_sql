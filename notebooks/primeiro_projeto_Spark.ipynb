{
  "cells": [
    {
      "cell_type": "markdown",
      "metadata": {
        "id": "SUB8-lifrTq4"
      },
      "source": [
        "# Inciando o PySpark"
      ]
    },
    {
      "cell_type": "code",
      "execution_count": 2,
      "metadata": {
        "colab": {
          "base_uri": "https://localhost:8080/"
        },
        "id": "rMV2LtNzrM4t",
        "outputId": "17a49507-5795-49aa-8e5e-6500826db505"
      },
      "outputs": [
        {
          "name": "stdout",
          "output_type": "stream",
          "text": [
            "Requirement already satisfied: pyspark in /home/anselmo/anaconda3/lib/python3.12/site-packages (3.5.4)\n",
            "Requirement already satisfied: py4j==0.10.9.7 in /home/anselmo/anaconda3/lib/python3.12/site-packages (from pyspark) (0.10.9.7)\n"
          ]
        }
      ],
      "source": [
        "! pip install pyspark"
      ]
    },
    {
      "cell_type": "markdown",
      "metadata": {
        "id": "BYnpFUuHrxrd"
      },
      "source": [
        "Criando a Sessão Spark 'SparkSession'"
      ]
    },
    {
      "cell_type": "code",
      "execution_count": 3,
      "metadata": {
        "colab": {
          "base_uri": "https://localhost:8080/",
          "height": 219
        },
        "id": "MiJu_O0srkOE",
        "outputId": "f1765366-5a69-4e58-ab5b-cfd78cef0103"
      },
      "outputs": [
        {
          "name": "stderr",
          "output_type": "stream",
          "text": [
            "your 131072x1 screen size is bogus. expect trouble\n",
            "25/01/23 22:36:31 WARN Utils: Your hostname, AnselmoHome resolves to a loopback address: 127.0.1.1; using 172.17.64.178 instead (on interface eth0)\n",
            "25/01/23 22:36:31 WARN Utils: Set SPARK_LOCAL_IP if you need to bind to another address\n",
            "Setting default log level to \"WARN\".\n",
            "To adjust logging level use sc.setLogLevel(newLevel). For SparkR, use setLogLevel(newLevel).\n",
            "25/01/23 22:36:34 WARN NativeCodeLoader: Unable to load native-hadoop library for your platform... using builtin-java classes where applicable\n"
          ]
        },
        {
          "data": {
            "text/html": [
              "\n",
              "            <div>\n",
              "                <p><b>SparkSession - in-memory</b></p>\n",
              "                \n",
              "        <div>\n",
              "            <p><b>SparkContext</b></p>\n",
              "\n",
              "            <p><a href=\"http://172.17.64.178:4040\">Spark UI</a></p>\n",
              "\n",
              "            <dl>\n",
              "              <dt>Version</dt>\n",
              "                <dd><code>v3.5.4</code></dd>\n",
              "              <dt>Master</dt>\n",
              "                <dd><code>local[*]</code></dd>\n",
              "              <dt>AppName</dt>\n",
              "                <dd><code>Inciando_Spark</code></dd>\n",
              "            </dl>\n",
              "        </div>\n",
              "        \n",
              "            </div>\n",
              "        "
            ],
            "text/plain": [
              "<pyspark.sql.session.SparkSession at 0x7f8b7fa68a10>"
            ]
          },
          "execution_count": 3,
          "metadata": {},
          "output_type": "execute_result"
        }
      ],
      "source": [
        "from pyspark.sql import SparkSession\n",
        "\n",
        "spark = SparkSession\\\n",
        "                    .builder\\\n",
        "                    .master('local[*]') \\\n",
        "                    .appName('Inciando_Spark').getOrCreate()\n",
        "spark"
      ]
    },
    {
      "cell_type": "code",
      "execution_count": 4,
      "metadata": {
        "colab": {
          "base_uri": "https://localhost:8080/"
        },
        "id": "O_FDFfj1sgeB",
        "outputId": "60918d48-6a9c-4dc1-de52-0fb9295d647b"
      },
      "outputs": [
        {
          "name": "stderr",
          "output_type": "stream",
          "text": [
            "                                                                                \r"
          ]
        },
        {
          "name": "stdout",
          "output_type": "stream",
          "text": [
            "+----+-----+\n",
            "|Nome|Idade|\n",
            "+----+-----+\n",
            "|Zeca|   35|\n",
            "| Eva|   29|\n",
            "+----+-----+\n",
            "\n"
          ]
        }
      ],
      "source": [
        "#lista Nome Idade\n",
        "\n",
        "data = [('Zeca', '35'), ('Eva', '29')]\n",
        "colNames = ['Nome', 'Idade']\n",
        "\n",
        "dados = spark.createDataFrame(data, colNames)\n",
        "dados.show()"
      ]
    },
    {
      "cell_type": "code",
      "execution_count": 5,
      "metadata": {
        "colab": {
          "base_uri": "https://localhost:8080/",
          "height": 112
        },
        "id": "ZZxu1s6dtAF2",
        "outputId": "6f1a0f0d-ad86-4c33-ad07-1e96fb40f35e"
      },
      "outputs": [
        {
          "data": {
            "text/html": [
              "<div>\n",
              "<style scoped>\n",
              "    .dataframe tbody tr th:only-of-type {\n",
              "        vertical-align: middle;\n",
              "    }\n",
              "\n",
              "    .dataframe tbody tr th {\n",
              "        vertical-align: top;\n",
              "    }\n",
              "\n",
              "    .dataframe thead th {\n",
              "        text-align: right;\n",
              "    }\n",
              "</style>\n",
              "<table border=\"1\" class=\"dataframe\">\n",
              "  <thead>\n",
              "    <tr style=\"text-align: right;\">\n",
              "      <th></th>\n",
              "      <th>Nome</th>\n",
              "      <th>Idade</th>\n",
              "    </tr>\n",
              "  </thead>\n",
              "  <tbody>\n",
              "    <tr>\n",
              "      <th>0</th>\n",
              "      <td>Zeca</td>\n",
              "      <td>35</td>\n",
              "    </tr>\n",
              "    <tr>\n",
              "      <th>1</th>\n",
              "      <td>Eva</td>\n",
              "      <td>29</td>\n",
              "    </tr>\n",
              "  </tbody>\n",
              "</table>\n",
              "</div>"
            ],
            "text/plain": [
              "   Nome Idade\n",
              "0  Zeca    35\n",
              "1   Eva    29"
            ]
          },
          "execution_count": 5,
          "metadata": {},
          "output_type": "execute_result"
        }
      ],
      "source": [
        "dados.toPandas()"
      ]
    },
    {
      "cell_type": "markdown",
      "metadata": {
        "id": "cWLkD0Kvu47C"
      },
      "source": [
        "# Montando nosso drive"
      ]
    },
    {
      "cell_type": "markdown",
      "metadata": {},
      "source": [
        "## 🗂 Trecho do Codigo para Descompactar Arquivos  \n",
        "\n",
        ". Trecho do codigo\n",
        "import zipfile\n",
        "\n",
        "\n",
        "```bash\n",
        "zip_files = [\n",
        "    '../data/empresas.zip',        # Exemplo: Arquivo de dados das empresas\n",
        "    '../data/estabelecimentos.zip', # Exemplo: Arquivo de dados dos estabelecimentos\n",
        "    '../data/socios.zip'           # Exemplo: Arquivo de dados dos sócios\n",
        "]\n",
        "\n",
        "# Loop para extrair cada arquivo\n",
        "for zip_file in zip_files:\n",
        "    # Extraindo o conteúdo do arquivo ZIP\n",
        "    zipfile.ZipFile(zip_file, 'r').extractall('../data')\n",
        "    # Exemplo: Se 'empresas.zip' contém 'empresas.csv', o arquivo será extraído para '../data/empresas.csv'\n",
        "\n"
      ]
    },
    {
      "cell_type": "markdown",
      "metadata": {
        "id": "1XOOqsxHvL-H"
      },
      "source": [
        "Carregando dados Empresa"
      ]
    },
    {
      "cell_type": "code",
      "execution_count": 6,
      "metadata": {
        "colab": {
          "base_uri": "https://localhost:8080/",
          "height": 206
        },
        "id": "F8rj-f27vAmN",
        "outputId": "fee3df34-0f65-4749-e23c-346ea593cfea"
      },
      "outputs": [
        {
          "name": "stderr",
          "output_type": "stream",
          "text": [
            "                                                                                \r"
          ]
        },
        {
          "data": {
            "text/html": [
              "<div>\n",
              "<style scoped>\n",
              "    .dataframe tbody tr th:only-of-type {\n",
              "        vertical-align: middle;\n",
              "    }\n",
              "\n",
              "    .dataframe tbody tr th {\n",
              "        vertical-align: top;\n",
              "    }\n",
              "\n",
              "    .dataframe thead th {\n",
              "        text-align: right;\n",
              "    }\n",
              "</style>\n",
              "<table border=\"1\" class=\"dataframe\">\n",
              "  <thead>\n",
              "    <tr style=\"text-align: right;\">\n",
              "      <th></th>\n",
              "      <th>_c0</th>\n",
              "      <th>_c1</th>\n",
              "      <th>_c2</th>\n",
              "      <th>_c3</th>\n",
              "      <th>_c4</th>\n",
              "      <th>_c5</th>\n",
              "      <th>_c6</th>\n",
              "    </tr>\n",
              "  </thead>\n",
              "  <tbody>\n",
              "    <tr>\n",
              "      <th>0</th>\n",
              "      <td>306</td>\n",
              "      <td>FRANCAMAR REFRIGERACAO TECNICA S/C LTDA</td>\n",
              "      <td>2240</td>\n",
              "      <td>49</td>\n",
              "      <td>0,00</td>\n",
              "      <td>1</td>\n",
              "      <td>None</td>\n",
              "    </tr>\n",
              "    <tr>\n",
              "      <th>1</th>\n",
              "      <td>1355</td>\n",
              "      <td>BRASILEIRO &amp; OLIVEIRA LTDA</td>\n",
              "      <td>2062</td>\n",
              "      <td>49</td>\n",
              "      <td>0,00</td>\n",
              "      <td>5</td>\n",
              "      <td>None</td>\n",
              "    </tr>\n",
              "    <tr>\n",
              "      <th>2</th>\n",
              "      <td>4820</td>\n",
              "      <td>REGISTRO DE IMOVEIS, TABELIONATO 1 DE NOTAS E ...</td>\n",
              "      <td>3034</td>\n",
              "      <td>32</td>\n",
              "      <td>0,00</td>\n",
              "      <td>5</td>\n",
              "      <td>None</td>\n",
              "    </tr>\n",
              "    <tr>\n",
              "      <th>3</th>\n",
              "      <td>5347</td>\n",
              "      <td>ROSELY APARECIDA MONTEIRO CALTABIANO FREITAS</td>\n",
              "      <td>2135</td>\n",
              "      <td>50</td>\n",
              "      <td>0,00</td>\n",
              "      <td>5</td>\n",
              "      <td>None</td>\n",
              "    </tr>\n",
              "    <tr>\n",
              "      <th>4</th>\n",
              "      <td>6846</td>\n",
              "      <td>BADU E FILHOS TECIDOS LTDA</td>\n",
              "      <td>2062</td>\n",
              "      <td>49</td>\n",
              "      <td>4000,00</td>\n",
              "      <td>1</td>\n",
              "      <td>None</td>\n",
              "    </tr>\n",
              "  </tbody>\n",
              "</table>\n",
              "</div>"
            ],
            "text/plain": [
              "    _c0                                                _c1   _c2  _c3  \\\n",
              "0   306            FRANCAMAR REFRIGERACAO TECNICA S/C LTDA  2240   49   \n",
              "1  1355                         BRASILEIRO & OLIVEIRA LTDA  2062   49   \n",
              "2  4820  REGISTRO DE IMOVEIS, TABELIONATO 1 DE NOTAS E ...  3034   32   \n",
              "3  5347       ROSELY APARECIDA MONTEIRO CALTABIANO FREITAS  2135   50   \n",
              "4  6846                         BADU E FILHOS TECIDOS LTDA  2062   49   \n",
              "\n",
              "       _c4  _c5   _c6  \n",
              "0     0,00    1  None  \n",
              "1     0,00    5  None  \n",
              "2     0,00    5  None  \n",
              "3     0,00    5  None  \n",
              "4  4000,00    1  None  "
            ]
          },
          "execution_count": 6,
          "metadata": {},
          "output_type": "execute_result"
        }
      ],
      "source": [
        "path_empresas= '../data/empresas'\n",
        "empresas = spark.read.csv(path_empresas, sep=';', inferSchema=True)\n",
        "empresas.limit(5).toPandas()"
      ]
    },
    {
      "cell_type": "markdown",
      "metadata": {
        "id": "1UuT_GKOvaqO"
      },
      "source": [
        "Carregando dados Estabelecimentos"
      ]
    },
    {
      "cell_type": "code",
      "execution_count": 7,
      "metadata": {
        "colab": {
          "base_uri": "https://localhost:8080/",
          "height": 236
        },
        "id": "G8m9qELdvQOz",
        "outputId": "7ba33525-efd8-4816-b719-6408d6f8e675"
      },
      "outputs": [
        {
          "name": "stderr",
          "output_type": "stream",
          "text": [
            "25/01/23 22:37:52 WARN SparkStringUtils: Truncated the string representation of a plan since it was too large. This behavior can be adjusted by setting 'spark.sql.debug.maxToStringFields'.\n"
          ]
        },
        {
          "data": {
            "text/html": [
              "<div>\n",
              "<style scoped>\n",
              "    .dataframe tbody tr th:only-of-type {\n",
              "        vertical-align: middle;\n",
              "    }\n",
              "\n",
              "    .dataframe tbody tr th {\n",
              "        vertical-align: top;\n",
              "    }\n",
              "\n",
              "    .dataframe thead th {\n",
              "        text-align: right;\n",
              "    }\n",
              "</style>\n",
              "<table border=\"1\" class=\"dataframe\">\n",
              "  <thead>\n",
              "    <tr style=\"text-align: right;\">\n",
              "      <th></th>\n",
              "      <th>_c0</th>\n",
              "      <th>_c1</th>\n",
              "      <th>_c2</th>\n",
              "      <th>_c3</th>\n",
              "      <th>_c4</th>\n",
              "      <th>_c5</th>\n",
              "      <th>_c6</th>\n",
              "      <th>_c7</th>\n",
              "      <th>_c8</th>\n",
              "      <th>_c9</th>\n",
              "      <th>...</th>\n",
              "      <th>_c20</th>\n",
              "      <th>_c21</th>\n",
              "      <th>_c22</th>\n",
              "      <th>_c23</th>\n",
              "      <th>_c24</th>\n",
              "      <th>_c25</th>\n",
              "      <th>_c26</th>\n",
              "      <th>_c27</th>\n",
              "      <th>_c28</th>\n",
              "      <th>_c29</th>\n",
              "    </tr>\n",
              "  </thead>\n",
              "  <tbody>\n",
              "    <tr>\n",
              "      <th>0</th>\n",
              "      <td>1879</td>\n",
              "      <td>1</td>\n",
              "      <td>96</td>\n",
              "      <td>1</td>\n",
              "      <td>PIRAMIDE M. C.</td>\n",
              "      <td>8</td>\n",
              "      <td>20011029</td>\n",
              "      <td>1</td>\n",
              "      <td>None</td>\n",
              "      <td>NaN</td>\n",
              "      <td>...</td>\n",
              "      <td>7107</td>\n",
              "      <td>None</td>\n",
              "      <td>None</td>\n",
              "      <td>None</td>\n",
              "      <td>None</td>\n",
              "      <td>NaN</td>\n",
              "      <td>None</td>\n",
              "      <td>None</td>\n",
              "      <td>None</td>\n",
              "      <td>NaN</td>\n",
              "    </tr>\n",
              "    <tr>\n",
              "      <th>1</th>\n",
              "      <td>2818</td>\n",
              "      <td>1</td>\n",
              "      <td>43</td>\n",
              "      <td>1</td>\n",
              "      <td>None</td>\n",
              "      <td>8</td>\n",
              "      <td>20081231</td>\n",
              "      <td>71</td>\n",
              "      <td>None</td>\n",
              "      <td>NaN</td>\n",
              "      <td>...</td>\n",
              "      <td>7107</td>\n",
              "      <td>None</td>\n",
              "      <td>None</td>\n",
              "      <td>None</td>\n",
              "      <td>None</td>\n",
              "      <td>NaN</td>\n",
              "      <td>None</td>\n",
              "      <td>None</td>\n",
              "      <td>None</td>\n",
              "      <td>NaN</td>\n",
              "    </tr>\n",
              "    <tr>\n",
              "      <th>2</th>\n",
              "      <td>3110</td>\n",
              "      <td>1</td>\n",
              "      <td>7</td>\n",
              "      <td>1</td>\n",
              "      <td>None</td>\n",
              "      <td>8</td>\n",
              "      <td>19971231</td>\n",
              "      <td>1</td>\n",
              "      <td>None</td>\n",
              "      <td>NaN</td>\n",
              "      <td>...</td>\n",
              "      <td>7107</td>\n",
              "      <td>None</td>\n",
              "      <td>None</td>\n",
              "      <td>None</td>\n",
              "      <td>None</td>\n",
              "      <td>NaN</td>\n",
              "      <td>None</td>\n",
              "      <td>None</td>\n",
              "      <td>None</td>\n",
              "      <td>NaN</td>\n",
              "    </tr>\n",
              "    <tr>\n",
              "      <th>3</th>\n",
              "      <td>3733</td>\n",
              "      <td>1</td>\n",
              "      <td>80</td>\n",
              "      <td>1</td>\n",
              "      <td>None</td>\n",
              "      <td>8</td>\n",
              "      <td>20081231</td>\n",
              "      <td>71</td>\n",
              "      <td>None</td>\n",
              "      <td>NaN</td>\n",
              "      <td>...</td>\n",
              "      <td>7107</td>\n",
              "      <td>None</td>\n",
              "      <td>None</td>\n",
              "      <td>None</td>\n",
              "      <td>None</td>\n",
              "      <td>NaN</td>\n",
              "      <td>None</td>\n",
              "      <td>None</td>\n",
              "      <td>None</td>\n",
              "      <td>NaN</td>\n",
              "    </tr>\n",
              "    <tr>\n",
              "      <th>4</th>\n",
              "      <td>4628</td>\n",
              "      <td>3</td>\n",
              "      <td>27</td>\n",
              "      <td>2</td>\n",
              "      <td>EMBROIDERY &amp; GIFT</td>\n",
              "      <td>8</td>\n",
              "      <td>19980429</td>\n",
              "      <td>1</td>\n",
              "      <td>None</td>\n",
              "      <td>NaN</td>\n",
              "      <td>...</td>\n",
              "      <td>7075</td>\n",
              "      <td>None</td>\n",
              "      <td>None</td>\n",
              "      <td>None</td>\n",
              "      <td>None</td>\n",
              "      <td>NaN</td>\n",
              "      <td>None</td>\n",
              "      <td>None</td>\n",
              "      <td>None</td>\n",
              "      <td>NaN</td>\n",
              "    </tr>\n",
              "  </tbody>\n",
              "</table>\n",
              "<p>5 rows × 30 columns</p>\n",
              "</div>"
            ],
            "text/plain": [
              "    _c0  _c1  _c2  _c3                _c4  _c5       _c6  _c7   _c8  _c9  ...  \\\n",
              "0  1879    1   96    1     PIRAMIDE M. C.    8  20011029    1  None  NaN  ...   \n",
              "1  2818    1   43    1               None    8  20081231   71  None  NaN  ...   \n",
              "2  3110    1    7    1               None    8  19971231    1  None  NaN  ...   \n",
              "3  3733    1   80    1               None    8  20081231   71  None  NaN  ...   \n",
              "4  4628    3   27    2  EMBROIDERY & GIFT    8  19980429    1  None  NaN  ...   \n",
              "\n",
              "   _c20  _c21  _c22  _c23  _c24 _c25  _c26  _c27  _c28 _c29  \n",
              "0  7107  None  None  None  None  NaN  None  None  None  NaN  \n",
              "1  7107  None  None  None  None  NaN  None  None  None  NaN  \n",
              "2  7107  None  None  None  None  NaN  None  None  None  NaN  \n",
              "3  7107  None  None  None  None  NaN  None  None  None  NaN  \n",
              "4  7075  None  None  None  None  NaN  None  None  None  NaN  \n",
              "\n",
              "[5 rows x 30 columns]"
            ]
          },
          "execution_count": 7,
          "metadata": {},
          "output_type": "execute_result"
        }
      ],
      "source": [
        "path_estabelecimentos = '../data/estabelecimentos'\n",
        "estabelecimentos = spark.read.csv(path_estabelecimentos, sep=';', inferSchema=True)\n",
        "estabelecimentos.limit(5).toPandas()"
      ]
    },
    {
      "cell_type": "markdown",
      "metadata": {
        "id": "snmChsl0v7a2"
      },
      "source": [
        "Carregando dados Socios"
      ]
    },
    {
      "cell_type": "code",
      "execution_count": 8,
      "metadata": {
        "colab": {
          "base_uri": "https://localhost:8080/",
          "height": 206
        },
        "id": "KDvMGu0-vxg4",
        "outputId": "f5c86a00-1e10-4f5f-82ff-018e1fa03ed5"
      },
      "outputs": [
        {
          "name": "stderr",
          "output_type": "stream",
          "text": [
            "                                                                                \r"
          ]
        },
        {
          "data": {
            "text/html": [
              "<div>\n",
              "<style scoped>\n",
              "    .dataframe tbody tr th:only-of-type {\n",
              "        vertical-align: middle;\n",
              "    }\n",
              "\n",
              "    .dataframe tbody tr th {\n",
              "        vertical-align: top;\n",
              "    }\n",
              "\n",
              "    .dataframe thead th {\n",
              "        text-align: right;\n",
              "    }\n",
              "</style>\n",
              "<table border=\"1\" class=\"dataframe\">\n",
              "  <thead>\n",
              "    <tr style=\"text-align: right;\">\n",
              "      <th></th>\n",
              "      <th>_c0</th>\n",
              "      <th>_c1</th>\n",
              "      <th>_c2</th>\n",
              "      <th>_c3</th>\n",
              "      <th>_c4</th>\n",
              "      <th>_c5</th>\n",
              "      <th>_c6</th>\n",
              "      <th>_c7</th>\n",
              "      <th>_c8</th>\n",
              "      <th>_c9</th>\n",
              "      <th>_c10</th>\n",
              "    </tr>\n",
              "  </thead>\n",
              "  <tbody>\n",
              "    <tr>\n",
              "      <th>0</th>\n",
              "      <td>411</td>\n",
              "      <td>2</td>\n",
              "      <td>LILIANA PATRICIA GUASTAVINO</td>\n",
              "      <td>***678188**</td>\n",
              "      <td>22</td>\n",
              "      <td>19940725</td>\n",
              "      <td>NaN</td>\n",
              "      <td>***000000**</td>\n",
              "      <td>None</td>\n",
              "      <td>0</td>\n",
              "      <td>7</td>\n",
              "    </tr>\n",
              "    <tr>\n",
              "      <th>1</th>\n",
              "      <td>411</td>\n",
              "      <td>2</td>\n",
              "      <td>CRISTINA HUNDERTMARK</td>\n",
              "      <td>***637848**</td>\n",
              "      <td>28</td>\n",
              "      <td>19940725</td>\n",
              "      <td>NaN</td>\n",
              "      <td>***000000**</td>\n",
              "      <td>None</td>\n",
              "      <td>0</td>\n",
              "      <td>7</td>\n",
              "    </tr>\n",
              "    <tr>\n",
              "      <th>2</th>\n",
              "      <td>5813</td>\n",
              "      <td>2</td>\n",
              "      <td>CELSO EDUARDO DE CASTRO STEPHAN</td>\n",
              "      <td>***786068**</td>\n",
              "      <td>49</td>\n",
              "      <td>19940516</td>\n",
              "      <td>NaN</td>\n",
              "      <td>***000000**</td>\n",
              "      <td>None</td>\n",
              "      <td>0</td>\n",
              "      <td>8</td>\n",
              "    </tr>\n",
              "    <tr>\n",
              "      <th>3</th>\n",
              "      <td>5813</td>\n",
              "      <td>2</td>\n",
              "      <td>EDUARDO BERRINGER STEPHAN</td>\n",
              "      <td>***442348**</td>\n",
              "      <td>49</td>\n",
              "      <td>19940516</td>\n",
              "      <td>NaN</td>\n",
              "      <td>***000000**</td>\n",
              "      <td>None</td>\n",
              "      <td>0</td>\n",
              "      <td>5</td>\n",
              "    </tr>\n",
              "    <tr>\n",
              "      <th>4</th>\n",
              "      <td>14798</td>\n",
              "      <td>2</td>\n",
              "      <td>HANNE MAHFOUD FADEL</td>\n",
              "      <td>***760388**</td>\n",
              "      <td>49</td>\n",
              "      <td>19940609</td>\n",
              "      <td>NaN</td>\n",
              "      <td>***000000**</td>\n",
              "      <td>None</td>\n",
              "      <td>0</td>\n",
              "      <td>8</td>\n",
              "    </tr>\n",
              "  </tbody>\n",
              "</table>\n",
              "</div>"
            ],
            "text/plain": [
              "     _c0  _c1                              _c2          _c3  _c4       _c5  \\\n",
              "0    411    2      LILIANA PATRICIA GUASTAVINO  ***678188**   22  19940725   \n",
              "1    411    2             CRISTINA HUNDERTMARK  ***637848**   28  19940725   \n",
              "2   5813    2  CELSO EDUARDO DE CASTRO STEPHAN  ***786068**   49  19940516   \n",
              "3   5813    2        EDUARDO BERRINGER STEPHAN  ***442348**   49  19940516   \n",
              "4  14798    2              HANNE MAHFOUD FADEL  ***760388**   49  19940609   \n",
              "\n",
              "   _c6          _c7   _c8  _c9  _c10  \n",
              "0  NaN  ***000000**  None    0     7  \n",
              "1  NaN  ***000000**  None    0     7  \n",
              "2  NaN  ***000000**  None    0     8  \n",
              "3  NaN  ***000000**  None    0     5  \n",
              "4  NaN  ***000000**  None    0     8  "
            ]
          },
          "execution_count": 8,
          "metadata": {},
          "output_type": "execute_result"
        }
      ],
      "source": [
        "path_socios= '../data/socios'\n",
        "socios = spark.read.csv(path_socios, sep=';', inferSchema=True)\n",
        "socios.limit(5).toPandas()"
      ]
    },
    {
      "cell_type": "markdown",
      "metadata": {
        "id": "M-HwTbcywpp4"
      },
      "source": [
        "# Operações Basicas"
      ]
    },
    {
      "cell_type": "code",
      "execution_count": 9,
      "metadata": {
        "colab": {
          "base_uri": "https://localhost:8080/"
        },
        "id": "9b-ajf36wnrB",
        "outputId": "f6c486a8-d141-44d9-def7-683622570010"
      },
      "outputs": [
        {
          "name": "stdout",
          "output_type": "stream",
          "text": [
            "root\n",
            " |-- _c0: integer (nullable = true)\n",
            " |-- _c1: integer (nullable = true)\n",
            " |-- _c2: string (nullable = true)\n",
            " |-- _c3: string (nullable = true)\n",
            " |-- _c4: integer (nullable = true)\n",
            " |-- _c5: integer (nullable = true)\n",
            " |-- _c6: integer (nullable = true)\n",
            " |-- _c7: string (nullable = true)\n",
            " |-- _c8: string (nullable = true)\n",
            " |-- _c9: integer (nullable = true)\n",
            " |-- _c10: integer (nullable = true)\n",
            "\n"
          ]
        }
      ],
      "source": [
        "socios.printSchema()"
      ]
    },
    {
      "cell_type": "code",
      "execution_count": 10,
      "metadata": {
        "colab": {
          "base_uri": "https://localhost:8080/"
        },
        "id": "FLHibg6oRfm9",
        "outputId": "7fc1994e-bf5e-4a75-bbf4-38b23b67e8b6"
      },
      "outputs": [
        {
          "data": {
            "text/plain": [
              "['cnpj_basico',\n",
              " 'razao_social_nome_empresarial',\n",
              " 'natureza_juridica',\n",
              " 'qualificacao_do_responsavel',\n",
              " 'capital_social_da_empresa',\n",
              " 'porte_da_empresa',\n",
              " 'ente_federativo_responsavel']"
            ]
          },
          "execution_count": 10,
          "metadata": {},
          "output_type": "execute_result"
        }
      ],
      "source": [
        "empresasColNames = ['cnpj_basico', 'razao_social_nome_empresarial', 'natureza_juridica', 'qualificacao_do_responsavel', 'capital_social_da_empresa', 'porte_da_empresa', 'ente_federativo_responsavel']\n",
        "for index, colNames in enumerate(empresasColNames):\n",
        "  empresas = empresas.withColumnRenamed(f\"_c{index}\", colNames)\n",
        "empresas.columns"
      ]
    },
    {
      "cell_type": "code",
      "execution_count": 11,
      "metadata": {
        "colab": {
          "base_uri": "https://localhost:8080/"
        },
        "id": "GaHWjorJSQz8",
        "outputId": "cc02b435-923e-4073-9fa2-a93356490736"
      },
      "outputs": [
        {
          "data": {
            "text/plain": [
              "['cnpj_basico',\n",
              " 'cnpj_ordem',\n",
              " 'cnpj_dv',\n",
              " 'identificador_matriz_filial',\n",
              " 'nome_fantasia',\n",
              " 'situacao_cadastral',\n",
              " 'data_situacao_cadastral',\n",
              " 'motivo_situacao_cadastral',\n",
              " 'nome_da_cidade_no_exterior',\n",
              " 'pais',\n",
              " 'data_de_inicio_atividade',\n",
              " 'cnae_fiscal_principal',\n",
              " 'cnae_fiscal_secundaria',\n",
              " 'tipo_de_logradouro',\n",
              " 'logradouro',\n",
              " 'numero',\n",
              " 'complemento',\n",
              " 'bairro',\n",
              " 'cep',\n",
              " 'uf',\n",
              " 'municipio',\n",
              " 'ddd_1',\n",
              " 'telefone_1',\n",
              " 'ddd_2',\n",
              " 'telefone_2',\n",
              " 'ddd_do_fax',\n",
              " 'fax',\n",
              " 'correio_eletronico',\n",
              " 'situacao_especial',\n",
              " 'data_da_situacao_especial']"
            ]
          },
          "execution_count": 11,
          "metadata": {},
          "output_type": "execute_result"
        }
      ],
      "source": [
        "estabsColNames = ['cnpj_basico', 'cnpj_ordem', 'cnpj_dv', 'identificador_matriz_filial', 'nome_fantasia', 'situacao_cadastral', 'data_situacao_cadastral', 'motivo_situacao_cadastral', 'nome_da_cidade_no_exterior', 'pais', 'data_de_inicio_atividade', 'cnae_fiscal_principal', 'cnae_fiscal_secundaria', 'tipo_de_logradouro', 'logradouro', 'numero', 'complemento', 'bairro', 'cep', 'uf', 'municipio', 'ddd_1', 'telefone_1', 'ddd_2', 'telefone_2', 'ddd_do_fax', 'fax', 'correio_eletronico', 'situacao_especial', 'data_da_situacao_especial']\n",
        "for index,colName in enumerate(estabsColNames):\n",
        "  estabelecimentos = estabelecimentos.withColumnRenamed(f\"_c{index}\", colName)\n",
        "estabelecimentos.columns"
      ]
    },
    {
      "cell_type": "code",
      "execution_count": 12,
      "metadata": {
        "colab": {
          "base_uri": "https://localhost:8080/"
        },
        "id": "UTV-R8-IVvsO",
        "outputId": "8c8d0a25-f9bf-4069-affd-698bf1b6d6de"
      },
      "outputs": [
        {
          "data": {
            "text/plain": [
              "['cnpj_basico',\n",
              " 'identificador_de_socio',\n",
              " 'nome_do_socio_ou_razao_social',\n",
              " 'cnpj_ou_cpf_do_socio',\n",
              " 'qualificacao_do_socio',\n",
              " 'data_de_entrada_sociedade',\n",
              " 'pais',\n",
              " 'representante_legal',\n",
              " 'nome_do_representante',\n",
              " 'qualificacao_do_representante_legal',\n",
              " 'faixa_etaria']"
            ]
          },
          "execution_count": 12,
          "metadata": {},
          "output_type": "execute_result"
        }
      ],
      "source": [
        "sociosColNames = ['cnpj_basico', 'identificador_de_socio', 'nome_do_socio_ou_razao_social', 'cnpj_ou_cpf_do_socio', 'qualificacao_do_socio', 'data_de_entrada_sociedade', 'pais', 'representante_legal', 'nome_do_representante', 'qualificacao_do_representante_legal', 'faixa_etaria']\n",
        "for index,colName in enumerate(sociosColNames):\n",
        "  socios = socios.withColumnRenamed(f\"_c{index}\", colName)\n",
        "socios.columns"
      ]
    },
    {
      "cell_type": "code",
      "execution_count": 13,
      "metadata": {
        "colab": {
          "base_uri": "https://localhost:8080/"
        },
        "id": "FToTuo_bNvre",
        "outputId": "427fbeda-c838-4e2c-9f00-4ad698a71329"
      },
      "outputs": [
        {
          "name": "stdout",
          "output_type": "stream",
          "text": [
            "+-----------+----------------------+-------------------------------+--------------------+---------------------+-------------------------+----+-------------------+---------------------+-----------------------------------+------------+\n",
            "|cnpj_basico|identificador_de_socio|nome_do_socio_ou_razao_social  |cnpj_ou_cpf_do_socio|qualificacao_do_socio|data_de_entrada_sociedade|pais|representante_legal|nome_do_representante|qualificacao_do_representante_legal|faixa_etaria|\n",
            "+-----------+----------------------+-------------------------------+--------------------+---------------------+-------------------------+----+-------------------+---------------------+-----------------------------------+------------+\n",
            "|411        |2                     |LILIANA PATRICIA GUASTAVINO    |***678188**         |22                   |19940725                 |NULL|***000000**        |NULL                 |0                                  |7           |\n",
            "|411        |2                     |CRISTINA HUNDERTMARK           |***637848**         |28                   |19940725                 |NULL|***000000**        |NULL                 |0                                  |7           |\n",
            "|5813       |2                     |CELSO EDUARDO DE CASTRO STEPHAN|***786068**         |49                   |19940516                 |NULL|***000000**        |NULL                 |0                                  |8           |\n",
            "|5813       |2                     |EDUARDO BERRINGER STEPHAN      |***442348**         |49                   |19940516                 |NULL|***000000**        |NULL                 |0                                  |5           |\n",
            "|14798      |2                     |HANNE MAHFOUD FADEL            |***760388**         |49                   |19940609                 |NULL|***000000**        |NULL                 |0                                  |8           |\n",
            "|14798      |2                     |CLOD ASSAD FADEL               |***205668**         |22                   |19940609                 |NULL|***000000**        |NULL                 |0                                  |6           |\n",
            "|17826      |2                     |WALKYRIA ALGARVES              |***689078**         |49                   |19970227                 |NULL|***000000**        |NULL                 |0                                  |7           |\n",
            "|17826      |2                     |SEBASTIAO JADIR TEIXEIRA NUNES |***904728**         |49                   |20090813                 |NULL|***000000**        |NULL                 |0                                  |5           |\n",
            "|19491      |2                     |JOSE JOAO ADAMO                |***235698**         |49                   |19940615                 |NULL|***000000**        |NULL                 |0                                  |7           |\n",
            "|19491      |2                     |ROSEMARY CANTUARIA AFONSO ADAMO|***959818**         |49                   |19940615                 |NULL|***000000**        |NULL                 |0                                  |6           |\n",
            "|27848      |2                     |MARCOS AURELIO MOTTA           |***262857**         |49                   |19940718                 |NULL|***000000**        |NULL                 |0                                  |7           |\n",
            "|27848      |2                     |EDVAN CANDIDO ALENCAR          |***460998**         |22                   |19940718                 |NULL|***000000**        |NULL                 |0                                  |5           |\n",
            "|35232      |2                     |JAIME MOURE COLINO             |***565078**         |49                   |19941020                 |NULL|***000000**        |NULL                 |0                                  |6           |\n",
            "|35232      |2                     |SANDRA APARECIDA CRUZ LEONE    |***120938**         |49                   |19960628                 |NULL|***000000**        |NULL                 |0                                  |6           |\n",
            "|35232      |2                     |LEIDA MARQUES PEREIRA VICENTE  |***395928**         |49                   |19960628                 |NULL|***000000**        |NULL                 |0                                  |6           |\n",
            "|56221      |2                     |DONZILIA FERREIRA REGO         |***904307**         |49                   |19940427                 |NULL|***000000**        |NULL                 |0                                  |8           |\n",
            "|56221      |2                     |ISRAEL AMERICANO REGO          |***571606**         |22                   |19940424                 |NULL|***000000**        |NULL                 |0                                  |5           |\n",
            "|82946      |2                     |VALERIA RIBEIRO TEIXEIRA       |***438401**         |22                   |19940601                 |NULL|***000000**        |NULL                 |0                                  |6           |\n",
            "|82946      |2                     |CARLOS RAFAEL DO LIVRAMENTO    |***701279**         |49                   |20090922                 |NULL|***000000**        |NULL                 |0                                  |5           |\n",
            "|85894      |2                     |IVAN MARQUEZ DE MOURA          |***342771**         |49                   |19820608                 |NULL|***000000**        |NULL                 |0                                  |7           |\n",
            "+-----------+----------------------+-------------------------------+--------------------+---------------------+-------------------------+----+-------------------+---------------------+-----------------------------------+------------+\n",
            "only showing top 20 rows\n",
            "\n"
          ]
        }
      ],
      "source": [
        "socios.show(truncate=False)"
      ]
    },
    {
      "cell_type": "code",
      "execution_count": 14,
      "metadata": {
        "colab": {
          "base_uri": "https://localhost:8080/"
        },
        "id": "AQjhEujYRVh5",
        "outputId": "91e1e9bb-3f8d-4acb-c560-7fd72adcece5"
      },
      "outputs": [
        {
          "name": "stdout",
          "output_type": "stream",
          "text": [
            "+-----------+----------+-------+---------------------------+-----------------+------------------+-----------------------+-------------------------+--------------------------+----+------------------------+---------------------+----------------------+------------------+----------------------+------+-----------+------------------+-------+---+---------+-----+----------+-----+----------+----------+----+------------------+-----------------+-------------------------+\n",
            "|cnpj_basico|cnpj_ordem|cnpj_dv|identificador_matriz_filial|nome_fantasia    |situacao_cadastral|data_situacao_cadastral|motivo_situacao_cadastral|nome_da_cidade_no_exterior|pais|data_de_inicio_atividade|cnae_fiscal_principal|cnae_fiscal_secundaria|tipo_de_logradouro|logradouro            |numero|complemento|bairro            |cep    |uf |municipio|ddd_1|telefone_1|ddd_2|telefone_2|ddd_do_fax|fax |correio_eletronico|situacao_especial|data_da_situacao_especial|\n",
            "+-----------+----------+-------+---------------------------+-----------------+------------------+-----------------------+-------------------------+--------------------------+----+------------------------+---------------------+----------------------+------------------+----------------------+------+-----------+------------------+-------+---+---------+-----+----------+-----+----------+----------+----+------------------+-----------------+-------------------------+\n",
            "|1879       |1         |96     |1                          |PIRAMIDE M. C.   |8                 |20011029               |1                        |NULL                      |NULL|19940509                |1412602              |NULL                  |RUA               |JOSE FIGLIOLINI       |608   |NULL       |VILA NILO         |2278020|SP |7107     |NULL |NULL      |NULL |NULL      |NULL      |NULL|NULL              |NULL             |NULL                     |\n",
            "|2818       |1         |43     |1                          |NULL             |8                 |20081231               |71                       |NULL                      |NULL|19940512                |4671100              |NULL                  |RUA               |BAQUIA                |416   |NULL       |VL NOVA MANCHESTER|3443000|SP |7107     |NULL |NULL      |NULL |NULL      |NULL      |NULL|NULL              |NULL             |NULL                     |\n",
            "|3110       |1         |7      |1                          |NULL             |8                 |19971231               |1                        |NULL                      |NULL|19940512                |4789007              |NULL                  |RUA               |LEOCADIA CINTRA       |180   |CONJ 83    |MOOCA             |3112040|SP |7107     |NULL |NULL      |NULL |NULL      |NULL      |NULL|NULL              |NULL             |NULL                     |\n",
            "|3733       |1         |80     |1                          |NULL             |8                 |20081231               |71                       |NULL                      |NULL|19940513                |7490101              |NULL                  |RUA               |AFONSO CELSO          |1102  |CASA 1     |VILA MARIANA      |4119061|SP |7107     |NULL |NULL      |NULL |NULL      |NULL      |NULL|NULL              |NULL             |NULL                     |\n",
            "|4628       |3         |27     |2                          |EMBROIDERY & GIFT|8                 |19980429               |1                        |NULL                      |NULL|19950509                |4755501              |NULL                  |RUA               |DOUTOR GABRIEL NICOLAU|177   |NULL       |RUDGE RAMOS       |9632040|SP |7075     |NULL |NULL      |NULL |NULL      |NULL      |NULL|NULL              |NULL             |NULL                     |\n",
            "+-----------+----------+-------+---------------------------+-----------------+------------------+-----------------------+-------------------------+--------------------------+----+------------------------+---------------------+----------------------+------------------+----------------------+------+-----------+------------------+-------+---+---------+-----+----------+-----+----------+----------+----+------------------+-----------------+-------------------------+\n",
            "\n"
          ]
        }
      ],
      "source": [
        "estabelecimentos.limit(5).show(truncate=False)"
      ]
    },
    {
      "cell_type": "code",
      "execution_count": 15,
      "metadata": {
        "colab": {
          "base_uri": "https://localhost:8080/"
        },
        "id": "ZZkiW-fZSmaj",
        "outputId": "e639b804-39af-4cc0-97f4-6e63a38db57f"
      },
      "outputs": [
        {
          "name": "stdout",
          "output_type": "stream",
          "text": [
            "+-----------+--------------------------------------------------------------------------------------------+-----------------+---------------------------+-------------------------+----------------+---------------------------+\n",
            "|cnpj_basico|razao_social_nome_empresarial                                                               |natureza_juridica|qualificacao_do_responsavel|capital_social_da_empresa|porte_da_empresa|ente_federativo_responsavel|\n",
            "+-----------+--------------------------------------------------------------------------------------------+-----------------+---------------------------+-------------------------+----------------+---------------------------+\n",
            "|306        |FRANCAMAR REFRIGERACAO TECNICA S/C LTDA                                                     |2240             |49                         |0,00                     |1               |NULL                       |\n",
            "|1355       |BRASILEIRO & OLIVEIRA LTDA                                                                  |2062             |49                         |0,00                     |5               |NULL                       |\n",
            "|4820       |REGISTRO DE IMOVEIS, TABELIONATO 1 DE NOTAS E TABELIONATO E REGISTRO DE CONSTRATOS MARITIMOS|3034             |32                         |0,00                     |5               |NULL                       |\n",
            "|5347       |ROSELY APARECIDA MONTEIRO CALTABIANO FREITAS                                                |2135             |50                         |0,00                     |5               |NULL                       |\n",
            "|6846       |BADU E FILHOS TECIDOS LTDA                                                                  |2062             |49                         |4000,00                  |1               |NULL                       |\n",
            "+-----------+--------------------------------------------------------------------------------------------+-----------------+---------------------------+-------------------------+----------------+---------------------------+\n",
            "\n"
          ]
        }
      ],
      "source": [
        "empresas.limit(5).show(truncate=False)"
      ]
    },
    {
      "cell_type": "code",
      "execution_count": 16,
      "metadata": {
        "colab": {
          "base_uri": "https://localhost:8080/"
        },
        "id": "HDwBRxj9SwXm",
        "outputId": "18f55cf2-6be5-46ad-e3f1-faa59c24f26b"
      },
      "outputs": [
        {
          "name": "stdout",
          "output_type": "stream",
          "text": [
            "+-----------+----------------------+-------------------------------+--------------------+---------------------+-------------------------+----+-------------------+---------------------+-----------------------------------+------------+\n",
            "|cnpj_basico|identificador_de_socio|nome_do_socio_ou_razao_social  |cnpj_ou_cpf_do_socio|qualificacao_do_socio|data_de_entrada_sociedade|pais|representante_legal|nome_do_representante|qualificacao_do_representante_legal|faixa_etaria|\n",
            "+-----------+----------------------+-------------------------------+--------------------+---------------------+-------------------------+----+-------------------+---------------------+-----------------------------------+------------+\n",
            "|411        |2                     |LILIANA PATRICIA GUASTAVINO    |***678188**         |22                   |19940725                 |NULL|***000000**        |NULL                 |0                                  |7           |\n",
            "|411        |2                     |CRISTINA HUNDERTMARK           |***637848**         |28                   |19940725                 |NULL|***000000**        |NULL                 |0                                  |7           |\n",
            "|5813       |2                     |CELSO EDUARDO DE CASTRO STEPHAN|***786068**         |49                   |19940516                 |NULL|***000000**        |NULL                 |0                                  |8           |\n",
            "|5813       |2                     |EDUARDO BERRINGER STEPHAN      |***442348**         |49                   |19940516                 |NULL|***000000**        |NULL                 |0                                  |5           |\n",
            "|14798      |2                     |HANNE MAHFOUD FADEL            |***760388**         |49                   |19940609                 |NULL|***000000**        |NULL                 |0                                  |8           |\n",
            "+-----------+----------------------+-------------------------------+--------------------+---------------------+-------------------------+----+-------------------+---------------------+-----------------------------------+------------+\n",
            "\n"
          ]
        }
      ],
      "source": [
        "socios.limit(5).show(truncate=False)"
      ]
    },
    {
      "cell_type": "markdown",
      "metadata": {
        "id": "a6nfzfz4UI3h"
      },
      "source": [
        "# Convertendo Dados"
      ]
    },
    {
      "cell_type": "code",
      "execution_count": 17,
      "metadata": {
        "id": "FseDD_b-S0hy"
      },
      "outputs": [],
      "source": [
        "from pyspark.sql.types import IntegerType, StringType, DoubleType, DateType\n",
        "from pyspark.sql import functions as f"
      ]
    },
    {
      "cell_type": "code",
      "execution_count": 18,
      "metadata": {
        "colab": {
          "base_uri": "https://localhost:8080/"
        },
        "id": "6UHeqMpKUPS9",
        "outputId": "2182894b-927a-465a-b47c-6370f82961ea"
      },
      "outputs": [
        {
          "name": "stdout",
          "output_type": "stream",
          "text": [
            "root\n",
            " |-- cnpj_basico: integer (nullable = true)\n",
            " |-- razao_social_nome_empresarial: string (nullable = true)\n",
            " |-- natureza_juridica: integer (nullable = true)\n",
            " |-- qualificacao_do_responsavel: integer (nullable = true)\n",
            " |-- capital_social_da_empresa: string (nullable = true)\n",
            " |-- porte_da_empresa: integer (nullable = true)\n",
            " |-- ente_federativo_responsavel: string (nullable = true)\n",
            "\n"
          ]
        }
      ],
      "source": [
        "empresas.printSchema()"
      ]
    },
    {
      "cell_type": "code",
      "execution_count": 19,
      "metadata": {
        "id": "SJtlxF4sV14p"
      },
      "outputs": [],
      "source": [
        "# Alterando o Campo capital_social_da_empresa para '.' ou inves de ','\n",
        "empresas = empresas.withColumn('capital_social_da_empresa', f.regexp_replace('capital_social_da_empresa', ',', '.'))"
      ]
    },
    {
      "cell_type": "code",
      "execution_count": 20,
      "metadata": {
        "colab": {
          "base_uri": "https://localhost:8080/"
        },
        "id": "UUXJvVg1UVg8",
        "outputId": "81d49e1f-950f-4a5e-9e9d-180afc07858d"
      },
      "outputs": [
        {
          "name": "stdout",
          "output_type": "stream",
          "text": [
            "root\n",
            " |-- cnpj_basico: integer (nullable = true)\n",
            " |-- razao_social_nome_empresarial: string (nullable = true)\n",
            " |-- natureza_juridica: integer (nullable = true)\n",
            " |-- qualificacao_do_responsavel: integer (nullable = true)\n",
            " |-- capital_social_da_empresa: double (nullable = true)\n",
            " |-- porte_da_empresa: integer (nullable = true)\n",
            " |-- ente_federativo_responsavel: string (nullable = true)\n",
            "\n"
          ]
        }
      ],
      "source": [
        "empresas = empresas.withColumn('capital_social_da_empresa', empresas['capital_social_da_empresa'].cast(DoubleType()))\n",
        "empresas.printSchema()\n"
      ]
    },
    {
      "cell_type": "code",
      "execution_count": 21,
      "metadata": {
        "colab": {
          "base_uri": "https://localhost:8080/"
        },
        "id": "eKbKNsVCVWGM",
        "outputId": "5ef7d5dc-5227-4dd0-a8d7-641ddc4e3aae"
      },
      "outputs": [
        {
          "name": "stdout",
          "output_type": "stream",
          "text": [
            "+-----------+--------------------------------------------------------------------------------------------+-----------------+---------------------------+-------------------------+----------------+---------------------------+\n",
            "|cnpj_basico|razao_social_nome_empresarial                                                               |natureza_juridica|qualificacao_do_responsavel|capital_social_da_empresa|porte_da_empresa|ente_federativo_responsavel|\n",
            "+-----------+--------------------------------------------------------------------------------------------+-----------------+---------------------------+-------------------------+----------------+---------------------------+\n",
            "|306        |FRANCAMAR REFRIGERACAO TECNICA S/C LTDA                                                     |2240             |49                         |0.0                      |1               |NULL                       |\n",
            "|1355       |BRASILEIRO & OLIVEIRA LTDA                                                                  |2062             |49                         |0.0                      |5               |NULL                       |\n",
            "|4820       |REGISTRO DE IMOVEIS, TABELIONATO 1 DE NOTAS E TABELIONATO E REGISTRO DE CONSTRATOS MARITIMOS|3034             |32                         |0.0                      |5               |NULL                       |\n",
            "|5347       |ROSELY APARECIDA MONTEIRO CALTABIANO FREITAS                                                |2135             |50                         |0.0                      |5               |NULL                       |\n",
            "|6846       |BADU E FILHOS TECIDOS LTDA                                                                  |2062             |49                         |4000.0                   |1               |NULL                       |\n",
            "+-----------+--------------------------------------------------------------------------------------------+-----------------+---------------------------+-------------------------+----------------+---------------------------+\n",
            "\n"
          ]
        }
      ],
      "source": [
        "empresas.limit(5).show(truncate=False)"
      ]
    },
    {
      "cell_type": "code",
      "execution_count": 22,
      "metadata": {
        "colab": {
          "base_uri": "https://localhost:8080/"
        },
        "id": "cqyycYZAYDyf",
        "outputId": "41b69e19-89c8-4d08-8bf8-7ae03db5a71b"
      },
      "outputs": [
        {
          "name": "stdout",
          "output_type": "stream",
          "text": [
            "root\n",
            " |-- cnpj_basico: integer (nullable = true)\n",
            " |-- cnpj_ordem: integer (nullable = true)\n",
            " |-- cnpj_dv: integer (nullable = true)\n",
            " |-- identificador_matriz_filial: integer (nullable = true)\n",
            " |-- nome_fantasia: string (nullable = true)\n",
            " |-- situacao_cadastral: integer (nullable = true)\n",
            " |-- data_situacao_cadastral: integer (nullable = true)\n",
            " |-- motivo_situacao_cadastral: integer (nullable = true)\n",
            " |-- nome_da_cidade_no_exterior: string (nullable = true)\n",
            " |-- pais: integer (nullable = true)\n",
            " |-- data_de_inicio_atividade: integer (nullable = true)\n",
            " |-- cnae_fiscal_principal: integer (nullable = true)\n",
            " |-- cnae_fiscal_secundaria: string (nullable = true)\n",
            " |-- tipo_de_logradouro: string (nullable = true)\n",
            " |-- logradouro: string (nullable = true)\n",
            " |-- numero: string (nullable = true)\n",
            " |-- complemento: string (nullable = true)\n",
            " |-- bairro: string (nullable = true)\n",
            " |-- cep: integer (nullable = true)\n",
            " |-- uf: string (nullable = true)\n",
            " |-- municipio: integer (nullable = true)\n",
            " |-- ddd_1: string (nullable = true)\n",
            " |-- telefone_1: string (nullable = true)\n",
            " |-- ddd_2: string (nullable = true)\n",
            " |-- telefone_2: string (nullable = true)\n",
            " |-- ddd_do_fax: integer (nullable = true)\n",
            " |-- fax: string (nullable = true)\n",
            " |-- correio_eletronico: string (nullable = true)\n",
            " |-- situacao_especial: string (nullable = true)\n",
            " |-- data_da_situacao_especial: integer (nullable = true)\n",
            "\n"
          ]
        }
      ],
      "source": [
        "estabelecimentos.printSchema()"
      ]
    },
    {
      "cell_type": "code",
      "execution_count": 23,
      "metadata": {
        "colab": {
          "base_uri": "https://localhost:8080/"
        },
        "id": "xovqh5Q8cTo-",
        "outputId": "b3e9cfa1-b767-455d-919f-586a45db1f55"
      },
      "outputs": [
        {
          "name": "stdout",
          "output_type": "stream",
          "text": [
            "root\n",
            " |-- cnpj_basico: integer (nullable = true)\n",
            " |-- cnpj_ordem: integer (nullable = true)\n",
            " |-- cnpj_dv: integer (nullable = true)\n",
            " |-- identificador_matriz_filial: integer (nullable = true)\n",
            " |-- nome_fantasia: string (nullable = true)\n",
            " |-- situacao_cadastral: date (nullable = true)\n",
            " |-- data_situacao_cadastral: integer (nullable = true)\n",
            " |-- motivo_situacao_cadastral: integer (nullable = true)\n",
            " |-- nome_da_cidade_no_exterior: string (nullable = true)\n",
            " |-- pais: integer (nullable = true)\n",
            " |-- data_de_inicio_atividade: date (nullable = true)\n",
            " |-- cnae_fiscal_principal: integer (nullable = true)\n",
            " |-- cnae_fiscal_secundaria: string (nullable = true)\n",
            " |-- tipo_de_logradouro: string (nullable = true)\n",
            " |-- logradouro: string (nullable = true)\n",
            " |-- numero: string (nullable = true)\n",
            " |-- complemento: string (nullable = true)\n",
            " |-- bairro: string (nullable = true)\n",
            " |-- cep: integer (nullable = true)\n",
            " |-- uf: string (nullable = true)\n",
            " |-- municipio: integer (nullable = true)\n",
            " |-- ddd_1: string (nullable = true)\n",
            " |-- telefone_1: string (nullable = true)\n",
            " |-- ddd_2: string (nullable = true)\n",
            " |-- telefone_2: string (nullable = true)\n",
            " |-- ddd_do_fax: integer (nullable = true)\n",
            " |-- fax: string (nullable = true)\n",
            " |-- correio_eletronico: string (nullable = true)\n",
            " |-- situacao_especial: string (nullable = true)\n",
            " |-- data_da_situacao_especial: date (nullable = true)\n",
            "\n"
          ]
        }
      ],
      "source": [
        "estabelecimentos = estabelecimentos\\\n",
        "          .withColumn(\n",
        "            'data_da_situacao_especial',\\\n",
        "              f.to_date(estabelecimentos['data_da_situacao_especial'].cast(StringType()), \"yyyyMMdd\")\n",
        "          ).withColumn(\n",
        "              'data_de_inicio_atividade',\\\n",
        "              f.to_date(estabelecimentos['data_de_inicio_atividade'].cast(StringType()), \"yyyyMMdd\")\n",
        "          ).withColumn(\n",
        "              'situacao_cadastral',\\\n",
        "              f.to_date(estabelecimentos['situacao_cadastral'].cast(StringType()), \"yyyyMMdd\"))\n",
        "estabelecimentos.printSchema()"
      ]
    },
    {
      "cell_type": "code",
      "execution_count": 24,
      "metadata": {
        "colab": {
          "base_uri": "https://localhost:8080/"
        },
        "id": "MWmEk8ngd-ch",
        "outputId": "01ec02c6-d66c-4f45-dd7a-9635c3dc4f8f"
      },
      "outputs": [
        {
          "name": "stdout",
          "output_type": "stream",
          "text": [
            "root\n",
            " |-- cnpj_basico: integer (nullable = true)\n",
            " |-- identificador_de_socio: integer (nullable = true)\n",
            " |-- nome_do_socio_ou_razao_social: string (nullable = true)\n",
            " |-- cnpj_ou_cpf_do_socio: string (nullable = true)\n",
            " |-- qualificacao_do_socio: integer (nullable = true)\n",
            " |-- data_de_entrada_sociedade: integer (nullable = true)\n",
            " |-- pais: integer (nullable = true)\n",
            " |-- representante_legal: string (nullable = true)\n",
            " |-- nome_do_representante: string (nullable = true)\n",
            " |-- qualificacao_do_representante_legal: integer (nullable = true)\n",
            " |-- faixa_etaria: integer (nullable = true)\n",
            "\n"
          ]
        }
      ],
      "source": [
        "socios.printSchema()"
      ]
    },
    {
      "cell_type": "code",
      "execution_count": 25,
      "metadata": {
        "id": "u1IRtu_zeA5-"
      },
      "outputs": [],
      "source": [
        "socios = socios\\\n",
        "      .withColumn('data_de_entrada_sociedade',\\\n",
        "        f.to_date(socios['data_de_entrada_sociedade'].cast(StringType()), \"yyyyMMdd\"))"
      ]
    },
    {
      "cell_type": "code",
      "execution_count": 26,
      "metadata": {
        "colab": {
          "base_uri": "https://localhost:8080/"
        },
        "id": "mwYYrGh_e3Ta",
        "outputId": "1a0d8271-98e7-44fb-c94c-959ea5ef614d"
      },
      "outputs": [
        {
          "name": "stdout",
          "output_type": "stream",
          "text": [
            "root\n",
            " |-- cnpj_basico: integer (nullable = true)\n",
            " |-- identificador_de_socio: integer (nullable = true)\n",
            " |-- nome_do_socio_ou_razao_social: string (nullable = true)\n",
            " |-- cnpj_ou_cpf_do_socio: string (nullable = true)\n",
            " |-- qualificacao_do_socio: integer (nullable = true)\n",
            " |-- data_de_entrada_sociedade: date (nullable = true)\n",
            " |-- pais: integer (nullable = true)\n",
            " |-- representante_legal: string (nullable = true)\n",
            " |-- nome_do_representante: string (nullable = true)\n",
            " |-- qualificacao_do_representante_legal: integer (nullable = true)\n",
            " |-- faixa_etaria: integer (nullable = true)\n",
            "\n"
          ]
        }
      ],
      "source": [
        "socios.printSchema()"
      ]
    },
    {
      "cell_type": "code",
      "execution_count": 27,
      "metadata": {
        "colab": {
          "base_uri": "https://localhost:8080/",
          "height": 244
        },
        "id": "aSO6JSLDgXtJ",
        "outputId": "c35ab186-d782-47f5-b20f-4bd511fec8f5"
      },
      "outputs": [
        {
          "data": {
            "text/html": [
              "<div>\n",
              "<style scoped>\n",
              "    .dataframe tbody tr th:only-of-type {\n",
              "        vertical-align: middle;\n",
              "    }\n",
              "\n",
              "    .dataframe tbody tr th {\n",
              "        vertical-align: top;\n",
              "    }\n",
              "\n",
              "    .dataframe thead th {\n",
              "        text-align: right;\n",
              "    }\n",
              "</style>\n",
              "<table border=\"1\" class=\"dataframe\">\n",
              "  <thead>\n",
              "    <tr style=\"text-align: right;\">\n",
              "      <th></th>\n",
              "      <th>cnpj_basico</th>\n",
              "      <th>identificador_de_socio</th>\n",
              "      <th>nome_do_socio_ou_razao_social</th>\n",
              "      <th>cnpj_ou_cpf_do_socio</th>\n",
              "      <th>qualificacao_do_socio</th>\n",
              "      <th>data_de_entrada_sociedade</th>\n",
              "      <th>pais</th>\n",
              "      <th>representante_legal</th>\n",
              "      <th>nome_do_representante</th>\n",
              "      <th>qualificacao_do_representante_legal</th>\n",
              "      <th>faixa_etaria</th>\n",
              "    </tr>\n",
              "  </thead>\n",
              "  <tbody>\n",
              "    <tr>\n",
              "      <th>0</th>\n",
              "      <td>411</td>\n",
              "      <td>2</td>\n",
              "      <td>LILIANA PATRICIA GUASTAVINO</td>\n",
              "      <td>***678188**</td>\n",
              "      <td>22</td>\n",
              "      <td>1994-07-25</td>\n",
              "      <td>NaN</td>\n",
              "      <td>***000000**</td>\n",
              "      <td>None</td>\n",
              "      <td>0</td>\n",
              "      <td>7</td>\n",
              "    </tr>\n",
              "    <tr>\n",
              "      <th>1</th>\n",
              "      <td>411</td>\n",
              "      <td>2</td>\n",
              "      <td>CRISTINA HUNDERTMARK</td>\n",
              "      <td>***637848**</td>\n",
              "      <td>28</td>\n",
              "      <td>1994-07-25</td>\n",
              "      <td>NaN</td>\n",
              "      <td>***000000**</td>\n",
              "      <td>None</td>\n",
              "      <td>0</td>\n",
              "      <td>7</td>\n",
              "    </tr>\n",
              "    <tr>\n",
              "      <th>2</th>\n",
              "      <td>5813</td>\n",
              "      <td>2</td>\n",
              "      <td>CELSO EDUARDO DE CASTRO STEPHAN</td>\n",
              "      <td>***786068**</td>\n",
              "      <td>49</td>\n",
              "      <td>1994-05-16</td>\n",
              "      <td>NaN</td>\n",
              "      <td>***000000**</td>\n",
              "      <td>None</td>\n",
              "      <td>0</td>\n",
              "      <td>8</td>\n",
              "    </tr>\n",
              "    <tr>\n",
              "      <th>3</th>\n",
              "      <td>5813</td>\n",
              "      <td>2</td>\n",
              "      <td>EDUARDO BERRINGER STEPHAN</td>\n",
              "      <td>***442348**</td>\n",
              "      <td>49</td>\n",
              "      <td>1994-05-16</td>\n",
              "      <td>NaN</td>\n",
              "      <td>***000000**</td>\n",
              "      <td>None</td>\n",
              "      <td>0</td>\n",
              "      <td>5</td>\n",
              "    </tr>\n",
              "    <tr>\n",
              "      <th>4</th>\n",
              "      <td>14798</td>\n",
              "      <td>2</td>\n",
              "      <td>HANNE MAHFOUD FADEL</td>\n",
              "      <td>***760388**</td>\n",
              "      <td>49</td>\n",
              "      <td>1994-06-09</td>\n",
              "      <td>NaN</td>\n",
              "      <td>***000000**</td>\n",
              "      <td>None</td>\n",
              "      <td>0</td>\n",
              "      <td>8</td>\n",
              "    </tr>\n",
              "  </tbody>\n",
              "</table>\n",
              "</div>"
            ],
            "text/plain": [
              "   cnpj_basico  identificador_de_socio    nome_do_socio_ou_razao_social  \\\n",
              "0          411                       2      LILIANA PATRICIA GUASTAVINO   \n",
              "1          411                       2             CRISTINA HUNDERTMARK   \n",
              "2         5813                       2  CELSO EDUARDO DE CASTRO STEPHAN   \n",
              "3         5813                       2        EDUARDO BERRINGER STEPHAN   \n",
              "4        14798                       2              HANNE MAHFOUD FADEL   \n",
              "\n",
              "  cnpj_ou_cpf_do_socio  qualificacao_do_socio data_de_entrada_sociedade  pais  \\\n",
              "0          ***678188**                     22                1994-07-25   NaN   \n",
              "1          ***637848**                     28                1994-07-25   NaN   \n",
              "2          ***786068**                     49                1994-05-16   NaN   \n",
              "3          ***442348**                     49                1994-05-16   NaN   \n",
              "4          ***760388**                     49                1994-06-09   NaN   \n",
              "\n",
              "  representante_legal nome_do_representante  \\\n",
              "0         ***000000**                  None   \n",
              "1         ***000000**                  None   \n",
              "2         ***000000**                  None   \n",
              "3         ***000000**                  None   \n",
              "4         ***000000**                  None   \n",
              "\n",
              "   qualificacao_do_representante_legal  faixa_etaria  \n",
              "0                                    0             7  \n",
              "1                                    0             7  \n",
              "2                                    0             8  \n",
              "3                                    0             5  \n",
              "4                                    0             8  "
            ]
          },
          "execution_count": 27,
          "metadata": {},
          "output_type": "execute_result"
        }
      ],
      "source": [
        "socios.limit(5).toPandas()"
      ]
    },
    {
      "cell_type": "markdown",
      "metadata": {
        "id": "WDWkW-WUgiAI"
      },
      "source": [
        "# Seleções e Consultas"
      ]
    },
    {
      "cell_type": "markdown",
      "metadata": {
        "id": "IXcQUDf4m3le"
      },
      "source": [
        "Selecionando Informações"
      ]
    },
    {
      "cell_type": "code",
      "execution_count": 28,
      "metadata": {
        "colab": {
          "base_uri": "https://localhost:8080/"
        },
        "id": "KSuOeXIBm0bP",
        "outputId": "7de82760-db40-45db-da6d-8ad4a70cd789"
      },
      "outputs": [
        {
          "name": "stdout",
          "output_type": "stream",
          "text": [
            "+-----------+-----------------------------+-----------------+---------------------------+-------------------------+----------------+---------------------------+\n",
            "|cnpj_basico|razao_social_nome_empresarial|natureza_juridica|qualificacao_do_responsavel|capital_social_da_empresa|porte_da_empresa|ente_federativo_responsavel|\n",
            "+-----------+-----------------------------+-----------------+---------------------------+-------------------------+----------------+---------------------------+\n",
            "|        306|         FRANCAMAR REFRIGE...|             2240|                         49|                      0.0|               1|                       NULL|\n",
            "|       1355|         BRASILEIRO & OLIV...|             2062|                         49|                      0.0|               5|                       NULL|\n",
            "|       4820|         REGISTRO DE IMOVE...|             3034|                         32|                      0.0|               5|                       NULL|\n",
            "|       5347|         ROSELY APARECIDA ...|             2135|                         50|                      0.0|               5|                       NULL|\n",
            "|       6846|         BADU E FILHOS TEC...|             2062|                         49|                   4000.0|               1|                       NULL|\n",
            "|       8416|           ELETRICA RUBI LTDA|             2062|                         49|                      0.0|               5|                       NULL|\n",
            "|       8992|         SHIROMA VEICULOS ...|             2062|                         49|                      0.0|               5|                       NULL|\n",
            "|       9091|         CONTATOS BAR E LA...|             2062|                         49|                      0.0|               5|                       NULL|\n",
            "|       9614|         ANTONIA APARECIDA...|             2135|                         50|                      0.0|               5|                       NULL|\n",
            "|       9896|         DORACY CORAT DA C...|             2135|                         50|                      0.0|               5|                       NULL|\n",
            "|      12112|         LANCHONETE RIO VE...|             2062|                         49|                      0.0|               5|                       NULL|\n",
            "|      12605|         VALMAR JACAREI CO...|             2062|                         49|                      0.0|               5|                       NULL|\n",
            "|      13407|         ROSANA CRISTINA D...|             2135|                         50|                      0.0|               5|                       NULL|\n",
            "|      13408|         CELIO RODRIGUES D...|             2135|                         50|                      0.0|               5|                       NULL|\n",
            "|      13721|         MAQFRAN COMERCIO ...|             2062|                         49|                      0.0|               1|                       NULL|\n",
            "|      21181|         MOURA & SILVA MER...|             2062|                         49|                      0.0|               5|                       NULL|\n",
            "|      21858|         PAMARATI COMERCIO...|             2135|                         50|                      0.0|               1|                       NULL|\n",
            "|      22277|         INACIO RODRIGUES ...|             2135|                         50|                      0.0|               5|                       NULL|\n",
            "|      24205|         SUELY LEME MARI A...|             2135|                         50|                   1000.0|               1|                       NULL|\n",
            "|      26805|         SUELI BATISTA DA ...|             2135|                         50|                      0.0|               5|                       NULL|\n",
            "+-----------+-----------------------------+-----------------+---------------------------+-------------------------+----------------+---------------------------+\n",
            "only showing top 20 rows\n",
            "\n"
          ]
        }
      ],
      "source": [
        "empresas\\\n",
        "    .select('*')\\\n",
        "    .show()"
      ]
    },
    {
      "cell_type": "code",
      "execution_count": 29,
      "metadata": {
        "colab": {
          "base_uri": "https://localhost:8080/"
        },
        "id": "Uv6RcxkPgcOK",
        "outputId": "e06af887-9cae-4e4d-df05-08dca2697268"
      },
      "outputs": [
        {
          "name": "stdout",
          "output_type": "stream",
          "text": [
            "root\n",
            " |-- cnpj_basico: integer (nullable = true)\n",
            " |-- cnpj_ordem: integer (nullable = true)\n",
            " |-- cnpj_dv: integer (nullable = true)\n",
            " |-- identificador_matriz_filial: integer (nullable = true)\n",
            " |-- nome_fantasia: string (nullable = true)\n",
            " |-- situacao_cadastral: date (nullable = true)\n",
            " |-- data_situacao_cadastral: integer (nullable = true)\n",
            " |-- motivo_situacao_cadastral: integer (nullable = true)\n",
            " |-- nome_da_cidade_no_exterior: string (nullable = true)\n",
            " |-- pais: integer (nullable = true)\n",
            " |-- data_de_inicio_atividade: date (nullable = true)\n",
            " |-- cnae_fiscal_principal: integer (nullable = true)\n",
            " |-- cnae_fiscal_secundaria: string (nullable = true)\n",
            " |-- tipo_de_logradouro: string (nullable = true)\n",
            " |-- logradouro: string (nullable = true)\n",
            " |-- numero: string (nullable = true)\n",
            " |-- complemento: string (nullable = true)\n",
            " |-- bairro: string (nullable = true)\n",
            " |-- cep: integer (nullable = true)\n",
            " |-- uf: string (nullable = true)\n",
            " |-- municipio: integer (nullable = true)\n",
            " |-- ddd_1: string (nullable = true)\n",
            " |-- telefone_1: string (nullable = true)\n",
            " |-- ddd_2: string (nullable = true)\n",
            " |-- telefone_2: string (nullable = true)\n",
            " |-- ddd_do_fax: integer (nullable = true)\n",
            " |-- fax: string (nullable = true)\n",
            " |-- correio_eletronico: string (nullable = true)\n",
            " |-- situacao_especial: string (nullable = true)\n",
            " |-- data_da_situacao_especial: date (nullable = true)\n",
            "\n"
          ]
        }
      ],
      "source": [
        "estabelecimentos.printSchema()"
      ]
    },
    {
      "cell_type": "code",
      "execution_count": 30,
      "metadata": {
        "colab": {
          "base_uri": "https://localhost:8080/"
        },
        "id": "4lTqwfK8oN9Q",
        "outputId": "00b8c2fa-7424-4482-de3b-e8dbcffedc76"
      },
      "outputs": [
        {
          "name": "stdout",
          "output_type": "stream",
          "text": [
            "+-----------------------------------+---------+-----------------------+-----------------------+\n",
            "|nome_fantasia                      |municipio|ano_de_inicio_atividade|mes_de_inicio_atividade|\n",
            "+-----------------------------------+---------+-----------------------+-----------------------+\n",
            "|PIRAMIDE M. C.                     |7107     |1994                   |5                      |\n",
            "|NULL                               |7107     |1994                   |5                      |\n",
            "|NULL                               |7107     |1994                   |5                      |\n",
            "|NULL                               |7107     |1994                   |5                      |\n",
            "|EMBROIDERY & GIFT                  |7075     |1995                   |5                      |\n",
            "|NULL                               |7075     |1999                   |7                      |\n",
            "|EMBROIDERY & GIFT                  |7075     |1995                   |4                      |\n",
            "|NULL                               |7075     |1994                   |5                      |\n",
            "|KOLVOX                             |7107     |1994                   |5                      |\n",
            "|PROLAV                             |7107     |1994                   |5                      |\n",
            "|NULL                               |6163     |1994                   |6                      |\n",
            "|MINI SACOLAO VILA CRISTINA         |7107     |1994                   |6                      |\n",
            "|J Z B COMERCIO DE INSUMOS AGRICOLAS|6117     |1994                   |6                      |\n",
            "|NULL                               |6607     |1994                   |6                      |\n",
            "|NULL                               |7079     |1994                   |6                      |\n",
            "|LEGO                               |7107     |1994                   |6                      |\n",
            "|NULL                               |7107     |2004                   |12                     |\n",
            "|NULL                               |6001     |1968                   |7                      |\n",
            "|NULL                               |7145     |1994                   |6                      |\n",
            "|POSTO XARA                         |9295     |1982                   |1                      |\n",
            "+-----------------------------------+---------+-----------------------+-----------------------+\n",
            "only showing top 20 rows\n",
            "\n"
          ]
        }
      ],
      "source": [
        "from os import truncate\n",
        "estabelecimentos\\\n",
        "    .select('nome_fantasia', 'municipio',\n",
        "            f.year(estabelecimentos['data_de_inicio_atividade']).alias('ano_de_inicio_atividade'),\n",
        "            f.month(estabelecimentos['data_de_inicio_atividade']).alias('mes_de_inicio_atividade'))\\\n",
        "    .show(truncate=False)\n"
      ]
    },
    {
      "cell_type": "code",
      "execution_count": 31,
      "metadata": {
        "colab": {
          "base_uri": "https://localhost:8080/"
        },
        "id": "erjdX29bpMPF",
        "outputId": "3fccab1d-ae0c-4c8a-be58-44a37a4b871a"
      },
      "outputs": [
        {
          "name": "stderr",
          "output_type": "stream",
          "text": [
            "[Stage 20:=============================>                            (1 + 1) / 2]\r"
          ]
        },
        {
          "name": "stdout",
          "output_type": "stream",
          "text": [
            "+-----------+----------------------+-----------------------------+--------------------+---------------------+-------------------------+-------+-------------------+---------------------+-----------------------------------+------------+\n",
            "|cnpj_basico|identificador_de_socio|nome_do_socio_ou_razao_social|cnpj_ou_cpf_do_socio|qualificacao_do_socio|data_de_entrada_sociedade|   pais|representante_legal|nome_do_representante|qualificacao_do_representante_legal|faixa_etaria|\n",
            "+-----------+----------------------+-----------------------------+--------------------+---------------------+-------------------------+-------+-------------------+---------------------+-----------------------------------+------------+\n",
            "|          0|                     0|                          208|                1234|                    0|                        1|2038255|                  0|              1995432|                                  0|           0|\n",
            "+-----------+----------------------+-----------------------------+--------------------+---------------------+-------------------------+-------+-------------------+---------------------+-----------------------------------+------------+\n",
            "\n"
          ]
        },
        {
          "name": "stderr",
          "output_type": "stream",
          "text": [
            "                                                                                \r"
          ]
        }
      ],
      "source": [
        "# verificar quantidade de nulo por coluna\n",
        "socios.select([f.count(f.when(f.isnull(c), 1)).alias(c) for c in socios.columns]).show()"
      ]
    },
    {
      "cell_type": "code",
      "execution_count": 32,
      "metadata": {
        "colab": {
          "base_uri": "https://localhost:8080/"
        },
        "id": "8LsM9-Zx7knd",
        "outputId": "0d190bfa-9511-49de-ebdd-f36c3d9fa4aa"
      },
      "outputs": [
        {
          "name": "stdout",
          "output_type": "stream",
          "text": [
            "root\n",
            " |-- cnpj_basico: integer (nullable = true)\n",
            " |-- identificador_de_socio: integer (nullable = true)\n",
            " |-- nome_do_socio_ou_razao_social: string (nullable = true)\n",
            " |-- cnpj_ou_cpf_do_socio: string (nullable = true)\n",
            " |-- qualificacao_do_socio: integer (nullable = true)\n",
            " |-- data_de_entrada_sociedade: date (nullable = true)\n",
            " |-- pais: integer (nullable = true)\n",
            " |-- representante_legal: string (nullable = true)\n",
            " |-- nome_do_representante: string (nullable = true)\n",
            " |-- qualificacao_do_representante_legal: integer (nullable = true)\n",
            " |-- faixa_etaria: integer (nullable = true)\n",
            "\n"
          ]
        }
      ],
      "source": [
        "socios.printSchema()"
      ]
    },
    {
      "cell_type": "code",
      "execution_count": 33,
      "metadata": {
        "colab": {
          "base_uri": "https://localhost:8080/"
        },
        "id": "9QZQDLp8_Yhe",
        "outputId": "567d320f-6efa-4abe-dd08-6daabe35612b"
      },
      "outputs": [
        {
          "name": "stderr",
          "output_type": "stream",
          "text": [
            "[Stage 23:=============================>                            (1 + 1) / 2]\r"
          ]
        },
        {
          "name": "stdout",
          "output_type": "stream",
          "text": [
            "+-------------------------------+------------+---------------------+\n",
            "|nome_do_socio_ou_razao_social  |faixa_etaria|ano_entrada_sociedade|\n",
            "+-------------------------------+------------+---------------------+\n",
            "|MARIA RAIMUNDA DOS SANTOS LANZA|9           |2021                 |\n",
            "|EDGAR FRANCISCO DA SILVA       |9           |2021                 |\n",
            "|MARIA JOSE DOMINGUES BONATO    |9           |2021                 |\n",
            "|WILLIAM WHITING BEACH VEALE    |9           |2021                 |\n",
            "|DORIS PEREIRA GOMES JAZRA      |9           |2021                 |\n",
            "+-------------------------------+------------+---------------------+\n",
            "only showing top 5 rows\n",
            "\n"
          ]
        },
        {
          "name": "stderr",
          "output_type": "stream",
          "text": [
            "                                                                                \r"
          ]
        }
      ],
      "source": [
        "socios\\\n",
        "        .select('nome_do_socio_ou_razao_social','faixa_etaria' , f.year('data_de_entrada_sociedade').alias('ano_entrada_sociedade'))\\\n",
        "        .orderBy(['ano_entrada_sociedade', 'faixa_etaria'], ascending=[False, False])\\\n",
        "        .show(5, False)"
      ]
    },
    {
      "cell_type": "code",
      "execution_count": 34,
      "metadata": {
        "colab": {
          "base_uri": "https://localhost:8080/"
        },
        "id": "M8bxXUrBAdPz",
        "outputId": "5a32f188-7584-4b58-f607-1e9f163bc6fc"
      },
      "outputs": [
        {
          "name": "stderr",
          "output_type": "stream",
          "text": [
            "[Stage 24:>                                                         (0 + 2) / 2]\r"
          ]
        },
        {
          "name": "stdout",
          "output_type": "stream",
          "text": [
            "+-------------------------------+------------+---------------------+\n",
            "|nome_do_socio_ou_razao_social  |faixa_etaria|ano_entrada_sociedade|\n",
            "+-------------------------------+------------+---------------------+\n",
            "|JOAO FRANCISCO DE AMORIM JUNCAL|3           |NULL                 |\n",
            "|MARIA SILENE BEZERRA DE AGUIAR |8           |1900                 |\n",
            "|NAIR YOKO HIRAI TAKAKI         |7           |1900                 |\n",
            "|VALMAR CARDOSO DE SANTANA      |5           |1901                 |\n",
            "|JOSE NELSON VIEIRA CAMPOS      |6           |1901                 |\n",
            "+-------------------------------+------------+---------------------+\n",
            "only showing top 5 rows\n",
            "\n"
          ]
        },
        {
          "name": "stderr",
          "output_type": "stream",
          "text": [
            "                                                                                \r"
          ]
        }
      ],
      "source": [
        "socios\\\n",
        "        .select('nome_do_socio_ou_razao_social','faixa_etaria' , f.year('data_de_entrada_sociedade').alias('ano_entrada_sociedade'))\\\n",
        "        .orderBy('ano_entrada_sociedade', ascending=True)\\\n",
        "        .show(5, False)"
      ]
    },
    {
      "cell_type": "markdown",
      "metadata": {
        "id": "PqlxfrjKIOUm"
      },
      "source": [
        "TRABALHANDO COM FILTROS 'WHERE' E OU 'FILTER'"
      ]
    },
    {
      "cell_type": "code",
      "execution_count": 35,
      "metadata": {
        "colab": {
          "base_uri": "https://localhost:8080/"
        },
        "id": "MfvoUugBBSUh",
        "outputId": "ce361ab2-bfe3-4189-f568-33daf909f4b9"
      },
      "outputs": [
        {
          "name": "stdout",
          "output_type": "stream",
          "text": [
            "+-------------------------------+--------------------+\n",
            "|nome_do_socio_ou_razao_social  |cnpj_ou_cpf_do_socio|\n",
            "+-------------------------------+--------------------+\n",
            "|LILIANA PATRICIA GUASTAVINO    |***678188**         |\n",
            "|CRISTINA HUNDERTMARK           |***637848**         |\n",
            "|CELSO EDUARDO DE CASTRO STEPHAN|***786068**         |\n",
            "|EDUARDO BERRINGER STEPHAN      |***442348**         |\n",
            "|HANNE MAHFOUD FADEL            |***760388**         |\n",
            "|CLOD ASSAD FADEL               |***205668**         |\n",
            "|WALKYRIA ALGARVES              |***689078**         |\n",
            "|SEBASTIAO JADIR TEIXEIRA NUNES |***904728**         |\n",
            "|JOSE JOAO ADAMO                |***235698**         |\n",
            "|ROSEMARY CANTUARIA AFONSO ADAMO|***959818**         |\n",
            "|MARCOS AURELIO MOTTA           |***262857**         |\n",
            "|EDVAN CANDIDO ALENCAR          |***460998**         |\n",
            "|JAIME MOURE COLINO             |***565078**         |\n",
            "|SANDRA APARECIDA CRUZ LEONE    |***120938**         |\n",
            "|LEIDA MARQUES PEREIRA VICENTE  |***395928**         |\n",
            "|DONZILIA FERREIRA REGO         |***904307**         |\n",
            "|ISRAEL AMERICANO REGO          |***571606**         |\n",
            "|VALERIA RIBEIRO TEIXEIRA       |***438401**         |\n",
            "|CARLOS RAFAEL DO LIVRAMENTO    |***701279**         |\n",
            "|IVAN MARQUEZ DE MOURA          |***342771**         |\n",
            "+-------------------------------+--------------------+\n",
            "only showing top 20 rows\n",
            "\n"
          ]
        }
      ],
      "source": [
        "socios\\\n",
        "   .select('nome_do_socio_ou_razao_social', 'cnpj_ou_cpf_do_socio')\\\n",
        "   .filter(socios['nome_do_socio_ou_razao_social'].startswith(''))\\\n",
        "   .filter(socios['nome_do_socio_ou_razao_social'].endswith(''))\\\n",
        "   .show(truncate=False)\n"
      ]
    },
    {
      "cell_type": "code",
      "execution_count": 36,
      "metadata": {
        "colab": {
          "base_uri": "https://localhost:8080/"
        },
        "id": "6_AbISNXE3Nq",
        "outputId": "0c2e7410-85f1-436f-adae-34600dabb1d2"
      },
      "outputs": [
        {
          "name": "stdout",
          "output_type": "stream",
          "text": [
            "root\n",
            " |-- cnpj_basico: integer (nullable = true)\n",
            " |-- razao_social_nome_empresarial: string (nullable = true)\n",
            " |-- natureza_juridica: integer (nullable = true)\n",
            " |-- qualificacao_do_responsavel: integer (nullable = true)\n",
            " |-- capital_social_da_empresa: double (nullable = true)\n",
            " |-- porte_da_empresa: integer (nullable = true)\n",
            " |-- ente_federativo_responsavel: string (nullable = true)\n",
            "\n"
          ]
        }
      ],
      "source": [
        "empresas.printSchema()"
      ]
    },
    {
      "cell_type": "code",
      "execution_count": 37,
      "metadata": {
        "colab": {
          "base_uri": "https://localhost:8080/"
        },
        "id": "MK_XXIPLFBOK",
        "outputId": "6910f4cb-6f93-466d-e623-3dc939d1459e"
      },
      "outputs": [
        {
          "name": "stdout",
          "output_type": "stream",
          "text": [
            "+--------------------------------------------------------------------------------------------+-------------------------+-----------+---------------------------+\n",
            "|razao_social_nome_empresarial                                                               |capital_social_da_empresa|cnpj_basico|ente_federativo_responsavel|\n",
            "+--------------------------------------------------------------------------------------------+-------------------------+-----------+---------------------------+\n",
            "|FRANCAMAR REFRIGERACAO TECNICA S/C LTDA                                                     |0.0                      |306        |NULL                       |\n",
            "|BRASILEIRO & OLIVEIRA LTDA                                                                  |0.0                      |1355       |NULL                       |\n",
            "|REGISTRO DE IMOVEIS, TABELIONATO 1 DE NOTAS E TABELIONATO E REGISTRO DE CONSTRATOS MARITIMOS|0.0                      |4820       |NULL                       |\n",
            "|ROSELY APARECIDA MONTEIRO CALTABIANO FREITAS                                                |0.0                      |5347       |NULL                       |\n",
            "|BADU E FILHOS TECIDOS LTDA                                                                  |4000.0                   |6846       |NULL                       |\n",
            "|ELETRICA RUBI LTDA                                                                          |0.0                      |8416       |NULL                       |\n",
            "|SHIROMA VEICULOS LTDA.                                                                      |0.0                      |8992       |NULL                       |\n",
            "|CONTATOS BAR E LANCHONETE LTDA                                                              |0.0                      |9091       |NULL                       |\n",
            "|ANTONIA APARECIDA DE SOUZA ULIANA                                                           |0.0                      |9614       |NULL                       |\n",
            "|DORACY CORAT DA COSTA                                                                       |0.0                      |9896       |NULL                       |\n",
            "|LANCHONETE RIO VERMELHO LTDA                                                                |0.0                      |12112      |NULL                       |\n",
            "|VALMAR JACAREI COMERCIO DE PRODUTOS ALIMENTIC LTDA                                          |0.0                      |12605      |NULL                       |\n",
            "|ROSANA CRISTINA DUARTE RODRIGUES SERRALHERIA                                                |0.0                      |13407      |NULL                       |\n",
            "|CELIO RODRIGUES DE MORAES DEPOSITO DE BANANAS                                               |0.0                      |13408      |NULL                       |\n",
            "|MAQFRAN COMERCIO DE PECAS LTDA                                                              |0.0                      |13721      |NULL                       |\n",
            "|MOURA & SILVA MERCEARIA LIMITADA                                                            |0.0                      |21181      |NULL                       |\n",
            "|PAMARATI COMERCIO DE RACOES LTDA                                                            |0.0                      |21858      |NULL                       |\n",
            "|INACIO RODRIGUES DO NASCIMENTO                                                              |0.0                      |22277      |NULL                       |\n",
            "|SUELY LEME MARI ANI 25086572800                                                             |1000.0                   |24205      |NULL                       |\n",
            "|SUELI BATISTA DA COSTA SILVA                                                                |0.0                      |26805      |NULL                       |\n",
            "+--------------------------------------------------------------------------------------------+-------------------------+-----------+---------------------------+\n",
            "only showing top 20 rows\n",
            "\n"
          ]
        }
      ],
      "source": [
        "empresas\\\n",
        "   .select('razao_social_nome_empresarial', 'capital_social_da_empresa','cnpj_basico', 'ente_federativo_responsavel')\\\n",
        "   .filter(empresas['razao_social_nome_empresarial'].startswith(''))\\\n",
        "   .filter(empresas['razao_social_nome_empresarial'].endswith(''))\\\n",
        "   .show(truncate=False)"
      ]
    },
    {
      "cell_type": "code",
      "execution_count": 38,
      "metadata": {
        "colab": {
          "base_uri": "https://localhost:8080/"
        },
        "id": "6oB1ZJyJFWfp",
        "outputId": "02aead8d-6fb5-4d58-a4fd-609f2dbe6b79"
      },
      "outputs": [
        {
          "name": "stdout",
          "output_type": "stream",
          "text": [
            "root\n",
            " |-- cnpj_basico: integer (nullable = true)\n",
            " |-- cnpj_ordem: integer (nullable = true)\n",
            " |-- cnpj_dv: integer (nullable = true)\n",
            " |-- identificador_matriz_filial: integer (nullable = true)\n",
            " |-- nome_fantasia: string (nullable = true)\n",
            " |-- situacao_cadastral: date (nullable = true)\n",
            " |-- data_situacao_cadastral: integer (nullable = true)\n",
            " |-- motivo_situacao_cadastral: integer (nullable = true)\n",
            " |-- nome_da_cidade_no_exterior: string (nullable = true)\n",
            " |-- pais: integer (nullable = true)\n",
            " |-- data_de_inicio_atividade: date (nullable = true)\n",
            " |-- cnae_fiscal_principal: integer (nullable = true)\n",
            " |-- cnae_fiscal_secundaria: string (nullable = true)\n",
            " |-- tipo_de_logradouro: string (nullable = true)\n",
            " |-- logradouro: string (nullable = true)\n",
            " |-- numero: string (nullable = true)\n",
            " |-- complemento: string (nullable = true)\n",
            " |-- bairro: string (nullable = true)\n",
            " |-- cep: integer (nullable = true)\n",
            " |-- uf: string (nullable = true)\n",
            " |-- municipio: integer (nullable = true)\n",
            " |-- ddd_1: string (nullable = true)\n",
            " |-- telefone_1: string (nullable = true)\n",
            " |-- ddd_2: string (nullable = true)\n",
            " |-- telefone_2: string (nullable = true)\n",
            " |-- ddd_do_fax: integer (nullable = true)\n",
            " |-- fax: string (nullable = true)\n",
            " |-- correio_eletronico: string (nullable = true)\n",
            " |-- situacao_especial: string (nullable = true)\n",
            " |-- data_da_situacao_especial: date (nullable = true)\n",
            "\n"
          ]
        }
      ],
      "source": [
        "estabelecimentos.printSchema()"
      ]
    },
    {
      "cell_type": "code",
      "execution_count": 39,
      "metadata": {
        "colab": {
          "base_uri": "https://localhost:8080/"
        },
        "id": "gh1nd19OG5hV",
        "outputId": "109538e4-8d8e-448b-a479-84d2e506015c"
      },
      "outputs": [
        {
          "name": "stdout",
          "output_type": "stream",
          "text": [
            "+-----------------------------------+------------------------+----------------------+-----------------+\n",
            "|nome_fantasia                      |data_de_inicio_atividade|logradouro            |bairro           |\n",
            "+-----------------------------------+------------------------+----------------------+-----------------+\n",
            "|PIRAMIDE M. C.                     |1994-05-09              |JOSE FIGLIOLINI       |VILA NILO        |\n",
            "|EMBROIDERY & GIFT                  |1995-05-09              |DOUTOR GABRIEL NICOLAU|RUDGE RAMOS      |\n",
            "|EMBROIDERY & GIFT                  |1995-04-06              |KENNEDY               |JD TRES MARIAS   |\n",
            "|KOLVOX                             |1994-05-30              |NORDESTINA            |VILA AMERICANA   |\n",
            "|PROLAV                             |1994-05-30              |PITAGUARAS            |POMPEIA          |\n",
            "|MINI SACOLAO VILA CRISTINA         |1994-06-10              |JAN DE CAPELLI        |PQ BRISTOL       |\n",
            "|J Z B COMERCIO DE INSUMOS AGRICOLAS|1994-06-15              |MUNIC.ALTAIR A GUARACI|ZONA RURAL       |\n",
            "|LEGO                               |1994-06-29              |CEL EMIDIO PIEDADE    |PARI             |\n",
            "|POSTO XARA                         |1982-01-14              |BR 050                |ZONA RURAL       |\n",
            "|VICAR LOCADORA DE VEICULOS         |1994-07-15              |HENRIQUE DE S QUEIROZ |PENHA            |\n",
            "|TRANS RODRIGUES                    |1994-08-09              |RIO GRANDE            |SANTO ANTONIO    |\n",
            "|LANCHE AZUL                        |1982-03-05              |IPAMERI               |CAMPINAS         |\n",
            "|ARMAZEM HERLYS                     |1982-03-09              |STA CATARINA          |CENTRO           |\n",
            "|MERCEARIA AKI TEM                  |1994-04-29              |RESIDENCIAL CABULA VI |CABULA VI        |\n",
            "|LONGSHINE                          |1994-05-13              |LOC  BR 153           |CHACARA MARIVANIA|\n",
            "|MINI MERCADO POPULAR               |1994-05-18              |JANGO MASCARENHAS     |VILA QUARENTA    |\n",
            "|POLICON                            |1994-05-18              |C 74                  |ST SUDOESTE      |\n",
            "|KIOSKI LANCHES                     |1994-05-19              |CLERISTON ANDRADE     |MIMOSO DO OESTE  |\n",
            "|BEBIDAS E CIA MOURA                |1994-06-02              |AEROPORTO             |SETOR AEROPORTO  |\n",
            "|DEPOSITO DE GAS MOURA              |2007-10-04              |04                    |AEROPORTO        |\n",
            "+-----------------------------------+------------------------+----------------------+-----------------+\n",
            "only showing top 20 rows\n",
            "\n"
          ]
        }
      ],
      "source": [
        "estabelecimentos\\\n",
        "   .select('nome_fantasia', 'data_de_inicio_atividade','logradouro', 'bairro')\\\n",
        "   .filter(estabelecimentos['nome_fantasia'].startswith(''))\\\n",
        "   .filter(estabelecimentos['nome_fantasia'].endswith(''))\\\n",
        "   .show(truncate=False)"
      ]
    },
    {
      "cell_type": "code",
      "execution_count": 40,
      "metadata": {
        "id": "g4Y_hF2iHaJt"
      },
      "outputs": [
        {
          "name": "stdout",
          "output_type": "stream",
          "text": [
            "root\n",
            " |-- cnpj_basico: integer (nullable = true)\n",
            " |-- razao_social_nome_empresarial: string (nullable = true)\n",
            " |-- natureza_juridica: integer (nullable = true)\n",
            " |-- qualificacao_do_responsavel: integer (nullable = true)\n",
            " |-- capital_social_da_empresa: double (nullable = true)\n",
            " |-- porte_da_empresa: integer (nullable = true)\n",
            " |-- ente_federativo_responsavel: string (nullable = true)\n",
            "\n"
          ]
        }
      ],
      "source": [
        "empresas.printSchema()"
      ]
    },
    {
      "cell_type": "code",
      "execution_count": 41,
      "metadata": {},
      "outputs": [
        {
          "name": "stdout",
          "output_type": "stream",
          "text": [
            "+-------------------------------------------------------+-------------------------+-----------+\n",
            "|razao_social_nome_empresarial                          |capital_social_da_empresa|cnpj_basico|\n",
            "+-------------------------------------------------------+-------------------------+-----------+\n",
            "|RESTAURANTE IMIGRANTE PORTUGUES LTDA.                  |0.0                      |391778     |\n",
            "|MORAIS & CARVALHO RESTAURANTE E PIZZARIA LTDA          |0.0                      |984425     |\n",
            "|BAR E RESTAURANTE PAGANOTTO LTDA                       |0.0                      |1129084    |\n",
            "|RODRIGUES & RODRIGUES RESTAURANTE LTDA                 |0.0                      |1478066    |\n",
            "|TEXAS RANCH BAR RESTAURANTE PRODUCOES ARTISTICAS E CULT|0.0                      |1653766    |\n",
            "|V V SANTOS RESTAURANTE BAR E ATIV DESPORTIVAS LTDA     |0.0                      |2163700    |\n",
            "|BAR E RESTAURANTE CASA DA QUINTA LTDA                  |5000.0                   |2591875    |\n",
            "|DON MUGO RESTAURANTE LTDA                              |10000.0                  |3059084    |\n",
            "|MARIA ROZA DOS SANTOS- BAR E RESTAURANTE               |0.0                      |3360043    |\n",
            "|GERACAO DE OURO - BAR E RESTAURANTE LTDA               |40000.0                  |3396661    |\n",
            "|ELIANIA A. CUSTODIO RESTAURANTE                        |0.0                      |3418891    |\n",
            "|DOCE ESPIGA RESTAURANTE LTDA                           |0.0                      |4171178    |\n",
            "|R. A. D. ABRIL RESTAURANTE                             |0.0                      |4305763    |\n",
            "|BAR E RESTAURANTE IULIANCHESE LTDA.                    |0.0                      |4717812    |\n",
            "|R. DA S. ARAUJO - RESTAURANTE                          |0.0                      |4744505    |\n",
            "|CHINELAO RESTAURANTE JAPONES LTDA                      |0.0                      |5438922    |\n",
            "|RESTAURANTE E PETISCARIA THE-DELICIA LTDA              |0.0                      |5618763    |\n",
            "|PSTJ RESTAURANTE LTDA                                  |30000.0                  |5930238    |\n",
            "|CASTELO RESTAURANTE LTDA                               |10000.0                  |6218415    |\n",
            "|VALENTE SUZART FRANCO RESTAURANTE, CREPERIA E BAR LTDA |90000.0                  |7137310    |\n",
            "+-------------------------------------------------------+-------------------------+-----------+\n",
            "only showing top 20 rows\n",
            "\n"
          ]
        }
      ],
      "source": [
        "(\n",
        "    empresas\n",
        "        .select('razao_social_nome_empresarial', \n",
        "                'capital_social_da_empresa', \n",
        "                'cnpj_basico')\n",
        "        .filter(f.upper(empresas['razao_social_nome_empresarial']).like('%RESTAURANTE%'))\n",
        "        .show(truncate=False) \n",
        ")"
      ]
    },
    {
      "cell_type": "markdown",
      "metadata": {},
      "source": [
        "# Sumarizando os dados"
      ]
    },
    {
      "cell_type": "code",
      "execution_count": 42,
      "metadata": {},
      "outputs": [
        {
          "name": "stdout",
          "output_type": "stream",
          "text": [
            "root\n",
            " |-- cnpj_basico: integer (nullable = true)\n",
            " |-- identificador_de_socio: integer (nullable = true)\n",
            " |-- nome_do_socio_ou_razao_social: string (nullable = true)\n",
            " |-- cnpj_ou_cpf_do_socio: string (nullable = true)\n",
            " |-- qualificacao_do_socio: integer (nullable = true)\n",
            " |-- data_de_entrada_sociedade: date (nullable = true)\n",
            " |-- pais: integer (nullable = true)\n",
            " |-- representante_legal: string (nullable = true)\n",
            " |-- nome_do_representante: string (nullable = true)\n",
            " |-- qualificacao_do_representante_legal: integer (nullable = true)\n",
            " |-- faixa_etaria: integer (nullable = true)\n",
            "\n"
          ]
        }
      ],
      "source": [
        "socios.printSchema()"
      ]
    },
    {
      "cell_type": "code",
      "execution_count": 43,
      "metadata": {},
      "outputs": [
        {
          "name": "stderr",
          "output_type": "stream",
          "text": [
            "[Stage 29:>                                                         (0 + 2) / 2]\r"
          ]
        },
        {
          "name": "stdout",
          "output_type": "stream",
          "text": [
            "+-----------+------+\n",
            "|ano_entrada| count|\n",
            "+-----------+------+\n",
            "|       2010| 79337|\n",
            "|       2011| 83906|\n",
            "|       2012| 80101|\n",
            "|       2013| 83919|\n",
            "|       2014| 80590|\n",
            "|       2015| 80906|\n",
            "|       2016| 81587|\n",
            "|       2017| 90221|\n",
            "|       2018| 99935|\n",
            "|       2019|118248|\n",
            "|       2020|125927|\n",
            "|       2021| 56316|\n",
            "+-----------+------+\n",
            "\n"
          ]
        },
        {
          "name": "stderr",
          "output_type": "stream",
          "text": [
            "                                                                                \r"
          ]
        }
      ],
      "source": [
        "(   \n",
        " socios\n",
        "        .select(f.year('data_de_entrada_sociedade').alias('ano_entrada'))\n",
        "        .where('ano_entrada >= 2010')\n",
        "        .groupBy('ano_entrada')\n",
        "        .count()\n",
        "        .orderBy('ano_entrada', ascending=True)\n",
        "        .show()\n",
        ")"
      ]
    },
    {
      "cell_type": "code",
      "execution_count": 44,
      "metadata": {},
      "outputs": [
        {
          "name": "stdout",
          "output_type": "stream",
          "text": [
            "root\n",
            " |-- cnpj_basico: integer (nullable = true)\n",
            " |-- razao_social_nome_empresarial: string (nullable = true)\n",
            " |-- natureza_juridica: integer (nullable = true)\n",
            " |-- qualificacao_do_responsavel: integer (nullable = true)\n",
            " |-- capital_social_da_empresa: double (nullable = true)\n",
            " |-- porte_da_empresa: integer (nullable = true)\n",
            " |-- ente_federativo_responsavel: string (nullable = true)\n",
            "\n"
          ]
        }
      ],
      "source": [
        "empresas.printSchema()"
      ]
    },
    {
      "cell_type": "code",
      "execution_count": 45,
      "metadata": {},
      "outputs": [
        {
          "name": "stderr",
          "output_type": "stream",
          "text": [
            "[Stage 32:======================================>                   (2 + 1) / 3]\r"
          ]
        },
        {
          "name": "stdout",
          "output_type": "stream",
          "text": [
            "+----------------+-----------------------+----------+\n",
            "|porte_da_empresa|Media_do_capital_social|Frequencia|\n",
            "+----------------+-----------------------+----------+\n",
            "|NULL            |8.35421888053467       |5985      |\n",
            "|1               |339994.53313506936     |3129043   |\n",
            "|3               |2601001.7677092673     |115151    |\n",
            "|5               |708660.4208249798      |1335500   |\n",
            "+----------------+-----------------------+----------+\n",
            "\n"
          ]
        },
        {
          "name": "stderr",
          "output_type": "stream",
          "text": [
            "                                                                                \r"
          ]
        }
      ],
      "source": [
        "(\n",
        "    empresas\n",
        "        .select(\n",
        "            'cnpj_basico'\n",
        "            ,'capital_social_da_empresa'\n",
        "            ,'porte_da_empresa')\n",
        "        .groupBy(\n",
        "            'porte_da_empresa')\n",
        "        .agg(\n",
        "            f.avg('capital_social_da_empresa').alias('Media_do_capital_social'),\n",
        "            f.count('cnpj_basico').alias('Frequencia')\n",
        "        )\n",
        "        .orderBy('porte_da_empresa', ascending=True)\n",
        "        .show(truncate=False)\n",
        "\n",
        ")"
      ]
    },
    {
      "cell_type": "code",
      "execution_count": 46,
      "metadata": {},
      "outputs": [
        {
          "name": "stderr",
          "output_type": "stream",
          "text": [
            "[Stage 37:>                                                         (0 + 1) / 1]\r"
          ]
        },
        {
          "name": "stdout",
          "output_type": "stream",
          "text": [
            "+-------+-------------------------+\n",
            "|summary|capital_social_da_empresa|\n",
            "+-------+-------------------------+\n",
            "|count  |4585679                  |\n",
            "|mean   |503694.5478542675        |\n",
            "|stddev |2.1118691490537405E8     |\n",
            "|min    |0.0                      |\n",
            "|25%    |0.0                      |\n",
            "|50%    |1000.0                   |\n",
            "|75%    |7000.0                   |\n",
            "|max    |3.22014670262E11         |\n",
            "+-------+-------------------------+\n",
            "\n"
          ]
        },
        {
          "name": "stderr",
          "output_type": "stream",
          "text": [
            "                                                                                \r"
          ]
        }
      ],
      "source": [
        "(\n",
        "    empresas\n",
        "        .select(\n",
        "            'capital_social_da_empresa'\n",
        "            )\n",
        "       .summary()\n",
        "        .show(truncate=False)\n",
        "\n",
        ")"
      ]
    },
    {
      "cell_type": "markdown",
      "metadata": {},
      "source": [
        "# Juntando DataFrames"
      ]
    },
    {
      "cell_type": "code",
      "execution_count": 47,
      "metadata": {},
      "outputs": [
        {
          "name": "stdout",
          "output_type": "stream",
          "text": [
            "root\n",
            " |-- cnpj_basico: integer (nullable = true)\n",
            " |-- razao_social_nome_empresarial: string (nullable = true)\n",
            " |-- natureza_juridica: integer (nullable = true)\n",
            " |-- qualificacao_do_responsavel: integer (nullable = true)\n",
            " |-- capital_social_da_empresa: double (nullable = true)\n",
            " |-- porte_da_empresa: integer (nullable = true)\n",
            " |-- ente_federativo_responsavel: string (nullable = true)\n",
            "\n"
          ]
        }
      ],
      "source": [
        "empresas.printSchema()"
      ]
    },
    {
      "cell_type": "code",
      "execution_count": 48,
      "metadata": {},
      "outputs": [
        {
          "name": "stdout",
          "output_type": "stream",
          "text": [
            "root\n",
            " |-- cnpj_basico: integer (nullable = true)\n",
            " |-- cnpj_ordem: integer (nullable = true)\n",
            " |-- cnpj_dv: integer (nullable = true)\n",
            " |-- identificador_matriz_filial: integer (nullable = true)\n",
            " |-- nome_fantasia: string (nullable = true)\n",
            " |-- situacao_cadastral: date (nullable = true)\n",
            " |-- data_situacao_cadastral: integer (nullable = true)\n",
            " |-- motivo_situacao_cadastral: integer (nullable = true)\n",
            " |-- nome_da_cidade_no_exterior: string (nullable = true)\n",
            " |-- pais: integer (nullable = true)\n",
            " |-- data_de_inicio_atividade: date (nullable = true)\n",
            " |-- cnae_fiscal_principal: integer (nullable = true)\n",
            " |-- cnae_fiscal_secundaria: string (nullable = true)\n",
            " |-- tipo_de_logradouro: string (nullable = true)\n",
            " |-- logradouro: string (nullable = true)\n",
            " |-- numero: string (nullable = true)\n",
            " |-- complemento: string (nullable = true)\n",
            " |-- bairro: string (nullable = true)\n",
            " |-- cep: integer (nullable = true)\n",
            " |-- uf: string (nullable = true)\n",
            " |-- municipio: integer (nullable = true)\n",
            " |-- ddd_1: string (nullable = true)\n",
            " |-- telefone_1: string (nullable = true)\n",
            " |-- ddd_2: string (nullable = true)\n",
            " |-- telefone_2: string (nullable = true)\n",
            " |-- ddd_do_fax: integer (nullable = true)\n",
            " |-- fax: string (nullable = true)\n",
            " |-- correio_eletronico: string (nullable = true)\n",
            " |-- situacao_especial: string (nullable = true)\n",
            " |-- data_da_situacao_especial: date (nullable = true)\n",
            "\n"
          ]
        }
      ],
      "source": [
        "estabelecimentos.printSchema()"
      ]
    },
    {
      "cell_type": "code",
      "execution_count": 49,
      "metadata": {},
      "outputs": [],
      "source": [
        "empresas_join = estabelecimentos.join(empresas, 'cnpj_basico', how='inner')"
      ]
    },
    {
      "cell_type": "code",
      "execution_count": 50,
      "metadata": {},
      "outputs": [
        {
          "name": "stdout",
          "output_type": "stream",
          "text": [
            "root\n",
            " |-- cnpj_basico: integer (nullable = true)\n",
            " |-- cnpj_ordem: integer (nullable = true)\n",
            " |-- cnpj_dv: integer (nullable = true)\n",
            " |-- identificador_matriz_filial: integer (nullable = true)\n",
            " |-- nome_fantasia: string (nullable = true)\n",
            " |-- situacao_cadastral: date (nullable = true)\n",
            " |-- data_situacao_cadastral: integer (nullable = true)\n",
            " |-- motivo_situacao_cadastral: integer (nullable = true)\n",
            " |-- nome_da_cidade_no_exterior: string (nullable = true)\n",
            " |-- pais: integer (nullable = true)\n",
            " |-- data_de_inicio_atividade: date (nullable = true)\n",
            " |-- cnae_fiscal_principal: integer (nullable = true)\n",
            " |-- cnae_fiscal_secundaria: string (nullable = true)\n",
            " |-- tipo_de_logradouro: string (nullable = true)\n",
            " |-- logradouro: string (nullable = true)\n",
            " |-- numero: string (nullable = true)\n",
            " |-- complemento: string (nullable = true)\n",
            " |-- bairro: string (nullable = true)\n",
            " |-- cep: integer (nullable = true)\n",
            " |-- uf: string (nullable = true)\n",
            " |-- municipio: integer (nullable = true)\n",
            " |-- ddd_1: string (nullable = true)\n",
            " |-- telefone_1: string (nullable = true)\n",
            " |-- ddd_2: string (nullable = true)\n",
            " |-- telefone_2: string (nullable = true)\n",
            " |-- ddd_do_fax: integer (nullable = true)\n",
            " |-- fax: string (nullable = true)\n",
            " |-- correio_eletronico: string (nullable = true)\n",
            " |-- situacao_especial: string (nullable = true)\n",
            " |-- data_da_situacao_especial: date (nullable = true)\n",
            " |-- razao_social_nome_empresarial: string (nullable = true)\n",
            " |-- natureza_juridica: integer (nullable = true)\n",
            " |-- qualificacao_do_responsavel: integer (nullable = true)\n",
            " |-- capital_social_da_empresa: double (nullable = true)\n",
            " |-- porte_da_empresa: integer (nullable = true)\n",
            " |-- ente_federativo_responsavel: string (nullable = true)\n",
            "\n"
          ]
        }
      ],
      "source": [
        "empresas_join.printSchema()"
      ]
    },
    {
      "cell_type": "code",
      "execution_count": 51,
      "metadata": {},
      "outputs": [
        {
          "name": "stdout",
          "output_type": "stream",
          "text": [
            "root\n",
            " |-- cnpj_basico: integer (nullable = true)\n",
            " |-- identificador_de_socio: integer (nullable = true)\n",
            " |-- nome_do_socio_ou_razao_social: string (nullable = true)\n",
            " |-- cnpj_ou_cpf_do_socio: string (nullable = true)\n",
            " |-- qualificacao_do_socio: integer (nullable = true)\n",
            " |-- data_de_entrada_sociedade: date (nullable = true)\n",
            " |-- pais: integer (nullable = true)\n",
            " |-- representante_legal: string (nullable = true)\n",
            " |-- nome_do_representante: string (nullable = true)\n",
            " |-- qualificacao_do_representante_legal: integer (nullable = true)\n",
            " |-- faixa_etaria: integer (nullable = true)\n",
            "\n"
          ]
        }
      ],
      "source": [
        "socios.printSchema()"
      ]
    },
    {
      "cell_type": "code",
      "execution_count": 52,
      "metadata": {},
      "outputs": [],
      "source": [
        "freq = empresas_join\\\n",
        "    .select(\n",
        "        'cnpj_basico', \n",
        "        f.year('data_de_inicio_atividade').alias('data_de_inicio')\n",
        "    )\\\n",
        "    .where('data_de_inicio >= 2010')\\\n",
        "    .groupBy('data_de_inicio')\\\n",
        "    .agg(f.count(\"cnpj_basico\").alias(\"frequencia\"))\\\n",
        "    .orderBy('data_de_inicio', ascending=True)"
      ]
    },
    {
      "cell_type": "code",
      "execution_count": 53,
      "metadata": {},
      "outputs": [],
      "source": [
        "#freq.show()"
      ]
    },
    {
      "cell_type": "code",
      "execution_count": 54,
      "metadata": {},
      "outputs": [],
      "source": [
        "#freq.union(\n",
        "    #freq.select(\n",
        "       # f.lit('Total').alias('data_de_inicio'),\n",
        "       # f.sum(freq.frequencia).alias('frequencia')   \n",
        "   # )\n",
        "#).show()"
      ]
    },
    {
      "cell_type": "markdown",
      "metadata": {},
      "source": [
        "# SparkSQL"
      ]
    },
    {
      "cell_type": "code",
      "execution_count": 56,
      "metadata": {},
      "outputs": [],
      "source": [
        "empresas.createOrReplaceTempView('view_empresas')"
      ]
    },
    {
      "cell_type": "code",
      "execution_count": 57,
      "metadata": {},
      "outputs": [
        {
          "name": "stdout",
          "output_type": "stream",
          "text": [
            "+-----------+-----------------------------+-----------------+---------------------------+-------------------------+----------------+---------------------------+\n",
            "|cnpj_basico|razao_social_nome_empresarial|natureza_juridica|qualificacao_do_responsavel|capital_social_da_empresa|porte_da_empresa|ente_federativo_responsavel|\n",
            "+-----------+-----------------------------+-----------------+---------------------------+-------------------------+----------------+---------------------------+\n",
            "|        306|         FRANCAMAR REFRIGE...|             2240|                         49|                      0.0|               1|                       NULL|\n",
            "|       1355|         BRASILEIRO & OLIV...|             2062|                         49|                      0.0|               5|                       NULL|\n",
            "|       4820|         REGISTRO DE IMOVE...|             3034|                         32|                      0.0|               5|                       NULL|\n",
            "|       5347|         ROSELY APARECIDA ...|             2135|                         50|                      0.0|               5|                       NULL|\n",
            "|       6846|         BADU E FILHOS TEC...|             2062|                         49|                   4000.0|               1|                       NULL|\n",
            "+-----------+-----------------------------+-----------------+---------------------------+-------------------------+----------------+---------------------------+\n",
            "only showing top 5 rows\n",
            "\n"
          ]
        }
      ],
      "source": [
        "(\n",
        "    spark\n",
        "        .sql('''\n",
        "             Select * from view_empresas\n",
        "             ''').show(5)\n",
        ")"
      ]
    },
    {
      "cell_type": "code",
      "execution_count": 65,
      "metadata": {},
      "outputs": [
        {
          "name": "stderr",
          "output_type": "stream",
          "text": [
            "[Stage 51:======================================>                   (2 + 1) / 3]\r"
          ]
        },
        {
          "name": "stdout",
          "output_type": "stream",
          "text": [
            "+----------------+-------------------+\n",
            "|porte_da_empresa|      total_capital|\n",
            "+----------------+-------------------+\n",
            "|               5| 9.4641599201176E11|\n",
            "|               3| 2.9950795455349E11|\n",
            "|               1|1.06385751394456E12|\n",
            "|            NULL|            50000.0|\n",
            "+----------------+-------------------+\n",
            "\n"
          ]
        },
        {
          "name": "stderr",
          "output_type": "stream",
          "text": [
            "                                                                                \r"
          ]
        }
      ],
      "source": [
        "(\n",
        "    spark\n",
        "        .sql('''\n",
        "             Select \n",
        "                porte_da_empresa\n",
        "                ,round(sum(capital_social_da_empresa),2) as total_capital\n",
        "                from view_empresas\n",
        "                group by  porte_da_empresa\n",
        "                order by   porte_da_empresa desc\n",
        "             ''').show()\n",
        "    \n",
        "    \n",
        ")"
      ]
    },
    {
      "cell_type": "markdown",
      "metadata": {},
      "source": [
        "# Formas de armazenamento"
      ]
    },
    {
      "cell_type": "markdown",
      "metadata": {},
      "source": [
        "## Arquivos CSV"
      ]
    },
    {
      "cell_type": "code",
      "execution_count": 67,
      "metadata": {},
      "outputs": [
        {
          "name": "stderr",
          "output_type": "stream",
          "text": [
            "                                                                                \r"
          ]
        }
      ],
      "source": [
        "empresas.write.csv(\n",
        "    path= '../data/csv/empresas',\n",
        "    mode= 'overwrite',\n",
        "    sep= ';',\n",
        "    header=True\n",
        ")"
      ]
    },
    {
      "cell_type": "code",
      "execution_count": 68,
      "metadata": {},
      "outputs": [
        {
          "name": "stderr",
          "output_type": "stream",
          "text": [
            "                                                                                \r"
          ]
        }
      ],
      "source": [
        "estabelecimentos.write.csv(\n",
        "    path= '../data/csv/estabelecimentos',\n",
        "    mode= 'overwrite',\n",
        "    sep= ';',\n",
        "    header=True\n",
        ")"
      ]
    },
    {
      "cell_type": "code",
      "execution_count": 69,
      "metadata": {},
      "outputs": [
        {
          "name": "stderr",
          "output_type": "stream",
          "text": [
            "                                                                                \r"
          ]
        }
      ],
      "source": [
        "socios.write.csv(\n",
        "    path= '../data/csv/socios',\n",
        "    mode= 'overwrite',\n",
        "    sep= ';',\n",
        "    header=True\n",
        ")"
      ]
    },
    {
      "cell_type": "code",
      "execution_count": 70,
      "metadata": {},
      "outputs": [
        {
          "name": "stderr",
          "output_type": "stream",
          "text": [
            "                                                                                \r"
          ]
        }
      ],
      "source": [
        "empresas.write.parquet(\n",
        "    path= '../data/parquet/empresas',\n",
        "    mode= 'overwrite'\n",
        ")"
      ]
    },
    {
      "cell_type": "code",
      "execution_count": 71,
      "metadata": {},
      "outputs": [
        {
          "name": "stderr",
          "output_type": "stream",
          "text": [
            "                                                                                \r"
          ]
        }
      ],
      "source": [
        "socios.write.parquet(\n",
        "    path= '../data/parquet/socios',\n",
        "    mode= 'overwrite'\n",
        ")"
      ]
    },
    {
      "cell_type": "code",
      "execution_count": 72,
      "metadata": {},
      "outputs": [
        {
          "name": "stderr",
          "output_type": "stream",
          "text": [
            "[Stage 59:>                                                        (0 + 2) / 10]\r"
          ]
        }
      ],
      "source": [
        "estabelecimentos.write.parquet(\n",
        "    path= '../data/parquet/estabelecimentos',\n",
        "    mode= 'overwrite'\n",
        ")"
      ]
    },
    {
      "cell_type": "code",
      "execution_count": null,
      "metadata": {},
      "outputs": [],
      "source": [
        "empresas_parquet = spark"
      ]
    }
  ],
  "metadata": {
    "colab": {
      "provenance": []
    },
    "kernelspec": {
      "display_name": "Python 3",
      "name": "python3"
    },
    "language_info": {
      "codemirror_mode": {
        "name": "ipython",
        "version": 3
      },
      "file_extension": ".py",
      "mimetype": "text/x-python",
      "name": "python",
      "nbconvert_exporter": "python",
      "pygments_lexer": "ipython3",
      "version": "3.12.7"
    }
  },
  "nbformat": 4,
  "nbformat_minor": 0
}
